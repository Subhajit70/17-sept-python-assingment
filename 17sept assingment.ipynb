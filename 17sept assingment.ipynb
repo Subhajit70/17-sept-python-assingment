{
 "cells": [
  {
   "cell_type": "code",
   "execution_count": 1,
   "id": "829cba7f-08a4-431d-9b53-0a2de802a100",
   "metadata": {},
   "outputs": [],
   "source": [
    "#Foor Loop"
   ]
  },
  {
   "cell_type": "code",
   "execution_count": 2,
   "id": "797b0eba-3769-40bd-b5c1-20def73c8c4b",
   "metadata": {},
   "outputs": [
    {
     "name": "stdout",
     "output_type": "stream",
     "text": [
      "Numbers from 1 to 10:\n",
      "1 2 3 4 5 6 7 8 9 10 "
     ]
    }
   ],
   "source": [
    "#1.Write a Python program to print numbers from 1 to 10 using a for loop.\n",
    "print('Numbers from 1 to 10:')\n",
    "for n in range(1, 11):\n",
    "   print(n, end=' ')"
   ]
  },
  {
   "cell_type": "code",
   "execution_count": 4,
   "id": "f95c7edf-5c36-4c70-bad3-93fc99b79539",
   "metadata": {},
   "outputs": [
    {
     "name": "stdout",
     "output_type": "stream",
     "text": [
      "pen\n",
      "notebook\n",
      "pencil\n",
      "lunch box\n"
     ]
    }
   ],
   "source": [
    "#2 Explain the difference between a for loop and a while loop in Python.\n",
    "\n",
    "#foor loop\n",
    "# Create a list of items\n",
    "items = ['pen', 'notebook',\n",
    "\t\t'pencil', 'lunch box']\n",
    "\n",
    "# Run a loop to print\n",
    "# items in a list\n",
    "for item in items:\n",
    "    print(item)\n",
    "\n",
    "\n",
    "\n"
   ]
  },
  {
   "cell_type": "code",
   "execution_count": 6,
   "id": "a1651d98-06a8-40e6-9977-d00bdce50cf1",
   "metadata": {},
   "outputs": [
    {
     "name": "stdout",
     "output_type": "stream",
     "text": [
      "pen\n",
      "notebook\n",
      "pencil\n",
      "lunch box\n"
     ]
    }
   ],
   "source": [
    "#while loop\n",
    "\n",
    "# Create a list of items\n",
    "items = ['pen', 'notebook',\n",
    "\t\t'pencil', 'lunch box']\n",
    "\n",
    "# Declare a index\n",
    "index = 0\n",
    "\n",
    "# Store length of items list\n",
    "items_len = len(items)\n",
    "\n",
    "# Run a loop to print\n",
    "# items in a list\n",
    "while index<items_len:\n",
    "    print(items[index])\n",
    "    index = index+1\n"
   ]
  },
  {
   "cell_type": "code",
   "execution_count": 7,
   "id": "09c80ac3-1f33-4861-a575-ba1d591a9100",
   "metadata": {},
   "outputs": [],
   "source": [
    "#Yes, there is a huge difference between while and for.\n",
    "\n",
    "#The for statement iterates through a collection or iterable object or generator function.\n",
    "\n",
    "#The while statement simply loops until a condition is False."
   ]
  },
  {
   "cell_type": "code",
   "execution_count": 11,
   "id": "041fa4eb-a995-4a1e-a5d4-2873e3b168d4",
   "metadata": {},
   "outputs": [
    {
     "name": "stdout",
     "output_type": "stream",
     "text": [
      "The sum of all numbers from 1 to 100 is: 5050\n"
     ]
    }
   ],
   "source": [
    "# 3.Write a Python program to calculate the sum of all numbers from 1 to 100 using a for loop.\n",
    "sum = 0\n",
    "for i in range(1, 101):\n",
    "    sum += i\n",
    "print(\"The sum of all numbers from 1 to 100 is:\", sum)"
   ]
  },
  {
   "cell_type": "code",
   "execution_count": 12,
   "id": "902f3c70-1bb8-4f16-b0af-846aa8f67829",
   "metadata": {},
   "outputs": [
    {
     "name": "stdout",
     "output_type": "stream",
     "text": [
      "1\n",
      "3\n",
      "5\n",
      "7\n",
      "9\n"
     ]
    }
   ],
   "source": [
    "#4.How do you iterate through a list using a for loop in Python?\n",
    "# Python3 code to iterate over a list\n",
    "list = [1, 3, 5, 7, 9]\n",
    "\n",
    "# Using for loop\n",
    "for i in list:\n",
    "\tprint(i)\n"
   ]
  },
  {
   "cell_type": "code",
   "execution_count": 13,
   "id": "f4af8e97-990c-448c-baf4-c6ec74f0a4f6",
   "metadata": {},
   "outputs": [
    {
     "name": "stdout",
     "output_type": "stream",
     "text": [
      "6000\n",
      "120\n"
     ]
    }
   ],
   "source": [
    "#5.Write a Python program to find the product of all elements in a list using a for loop.\n",
    "def lstProduct(myLst):\n",
    " \n",
    "    result = 1\n",
    "    for x in myLst:\n",
    "        result = result * x\n",
    "    return result\n",
    " \n",
    " \n",
    "lst1 = [10, 20, 30]\n",
    "lst2 = [4, 5, 6]\n",
    "print(lstProduct(lst1))\n",
    "print(lstProduct(lst2))\n"
   ]
  },
  {
   "cell_type": "code",
   "execution_count": 14,
   "id": "a4fa49cc-73d6-4e9b-b7f7-aed34a2fdddb",
   "metadata": {},
   "outputs": [
    {
     "name": "stdout",
     "output_type": "stream",
     "text": [
      "4 6 8 10 12 14 16 18 20 "
     ]
    }
   ],
   "source": [
    "#6.Create a Python program that prints all even numbers from 1 to 20 using a for loop.\n",
    "# Python program to print all even numbers in range\n",
    "for even_numbers in range(4,21,2):\n",
    "#here inside range function first no denotes starting,\n",
    "#second denotes end and\n",
    "#third denotes the interval\n",
    "\tprint(even_numbers,end=' ')\n"
   ]
  },
  {
   "cell_type": "code",
   "execution_count": 15,
   "id": "70f731e8-af73-4494-9437-62f7b02791b3",
   "metadata": {},
   "outputs": [
    {
     "name": "stdin",
     "output_type": "stream",
     "text": [
      "Enter a number:  5\n"
     ]
    },
    {
     "name": "stdout",
     "output_type": "stream",
     "text": [
      "The factorial of 5 is 120\n"
     ]
    }
   ],
   "source": [
    "#7.Write a Python program that calculates the factorial of a number using a for loop.\n",
    "#Taking user input\n",
    "n = int(input(\"Enter a number: \"))\n",
    "\n",
    "factorial = 1\n",
    "\n",
    "if n < 0: #Check if the number is negative\n",
    "   print(\"Factors do not exist for negative numbers.\")\n",
    "elif n == 0: #Check if the number is zero\n",
    "   print(\"The factorial of 0 is 1.\")\n",
    "else:\n",
    "   for i in range(1,n + 1):\n",
    "       factorial = factorial*i\n",
    "   print(\"The factorial of\",n,\"is\",factorial)"
   ]
  },
  {
   "cell_type": "code",
   "execution_count": 18,
   "id": "7d4dbb33-e9fd-4f4c-86e1-56a79acf9153",
   "metadata": {},
   "outputs": [
    {
     "name": "stdout",
     "output_type": "stream",
     "text": [
      "s u b h a j i t r a j \n",
      "\n",
      "S\n",
      "U\n",
      "B\n",
      "H\n",
      "A\n",
      "J\n",
      "I\n",
      "T\n",
      "R\n",
      "A\n",
      "J\n"
     ]
    }
   ],
   "source": [
    "#8.How can you iterate through the characters of a string using a for loop in Python?\n",
    "# Python program to iterate over characters of a string\n",
    "\n",
    "# Code #1\n",
    "string_name = \"subhajitraj\"\n",
    "\n",
    "# Iterate over the string\n",
    "for element in string_name:\n",
    "\tprint(element, end=' ')\n",
    "print(\"\\n\")\n",
    "\n",
    "\n",
    "# Code #2\n",
    "string_name = \"SUBHAJITRAJ\"\n",
    "\n",
    "# Iterate over index\n",
    "for element in range(0, len(string_name)):\n",
    "\tprint(string_name[element])\n"
   ]
  },
  {
   "cell_type": "code",
   "execution_count": 20,
   "id": "da11fb71-a385-4b56-b1f3-9a29621e81cc",
   "metadata": {},
   "outputs": [
    {
     "name": "stdin",
     "output_type": "stream",
     "text": [
      "Enter number of elements in list:  4\n",
      "Enter elements:  12\n",
      "Enter elements:  34\n",
      "Enter elements:  56\n",
      "Enter elements:  67\n"
     ]
    },
    {
     "name": "stdout",
     "output_type": "stream",
     "text": [
      "Largest element is: 67\n"
     ]
    }
   ],
   "source": [
    "#9.Write a Python program to find the largest number in a list using a for lo\n",
    "# Python program to find largest\n",
    "# number in a list\n",
    "\n",
    "# Creating an empty list\n",
    "list1 = []\n",
    "\n",
    "# asking number of elements to put in list\n",
    "num = int(input(\"Enter number of elements in list: \"))\n",
    "\n",
    "# Iterating till num to append elements in list\n",
    "for i in range(1, num + 1):\n",
    "\tele = int(input(\"Enter elements: \"))\n",
    "\tlist1.append(ele)\n",
    "\n",
    "# Printing maximum element\n",
    "print(\"Largest element is:\", max(list1))\n"
   ]
  },
  {
   "cell_type": "code",
   "execution_count": 21,
   "id": "2a9702ff-a0a5-49ef-92ad-b4d3126bc734",
   "metadata": {},
   "outputs": [
    {
     "name": "stdin",
     "output_type": "stream",
     "text": [
      "Number of elements in Fibonacci Series, N, (N>=2) :  9\n"
     ]
    },
    {
     "name": "stdout",
     "output_type": "stream",
     "text": [
      "[0, 1, 1, 2, 3, 5, 8, 13, 21]\n"
     ]
    }
   ],
   "source": [
    "#10.Create a Python program that prints the Fibonacci sequence up to a specified limit using a for loop.\n",
    "N = int(input(\"Number of elements in Fibonacci Series, N, (N>=2) : \"))\n",
    "\n",
    "#initialize the list with starting elements: 0, 1\n",
    "fibonacciSeries = [0,1]\n",
    "\n",
    "if N>2:\n",
    "\tfor i in range(2, N):\n",
    "\t\t#next elment in series = sum of its previous two numbers\n",
    "\t\tnextElement = fibonacciSeries[i-1] + fibonacciSeries[i-2]\n",
    "\t\t#append the element to the series\n",
    "\t\tfibonacciSeries.append(nextElement)\n",
    "\n",
    "print(fibonacciSeries)"
   ]
  },
  {
   "cell_type": "code",
   "execution_count": 22,
   "id": "47b4fd75-1972-4f76-bdfe-adcc6ea0fe2c",
   "metadata": {},
   "outputs": [
    {
     "name": "stdout",
     "output_type": "stream",
     "text": [
      "The word is Hulkmaniacs and it contains 4 vowels in it\n",
      "The word is are and it contains 2 vowels in it\n",
      "The word is running and it contains 2 vowels in it\n",
      "The word is wild and it contains 1 vowels in it\n",
      "The word is in and it contains 1 vowels in it\n",
      "The word is the and it contains 1 vowels in it\n",
      "The word is whole and it contains 2 vowels in it\n",
      "The word is world and it contains 1 vowels in it\n"
     ]
    }
   ],
   "source": [
    "#11.Write a Python program to count the number of vowels in a given string using a for loop.\n",
    "# Sentence\n",
    "string = \"Hulkmaniacs are running wild in the whole world\"\n",
    "# Sentence splitted up into words\n",
    "wordList = string.split()\n",
    "# Defining vowels for uppercase and lowercase\n",
    "vowels = ['a', 'e', 'i', 'o', 'u', 'A', 'E', 'I', 'O', 'U']\n",
    "#Traversing every word in wordList\n",
    "for word in wordList:\n",
    "\tvowelCount = 0\n",
    "\t#Traversing every character of the word\n",
    "\tfor i in range(0, len(word)):\n",
    "\t\t# If the word contains a vowel then vowelCount adds by 1\n",
    "\t\tif word[i] in vowels:\n",
    "\t\t\tvowelCount += 1\n",
    "\tprint(\"The word is\", word, \"and it contains\", vowelCount, \"vowels in it\")\n"
   ]
  },
  {
   "cell_type": "code",
   "execution_count": 1,
   "id": "ae54e117-d879-46a1-b268-c25917460e64",
   "metadata": {},
   "outputs": [
    {
     "name": "stdin",
     "output_type": "stream",
     "text": [
      "Input a number:  78\n"
     ]
    },
    {
     "name": "stdout",
     "output_type": "stream",
     "text": [
      "78 x 1 = 78\n",
      "78 x 2 = 156\n",
      "78 x 3 = 234\n",
      "78 x 4 = 312\n",
      "78 x 5 = 390\n",
      "78 x 6 = 468\n",
      "78 x 7 = 546\n",
      "78 x 8 = 624\n",
      "78 x 9 = 702\n",
      "78 x 10 = 780\n"
     ]
    }
   ],
   "source": [
    "#12.Create a Python program that generates a multiplication table for a given number using a for loop.\n",
    "\n",
    "n = int(input(\"Input a number: \"))\n",
    "\n",
    "# use for loop to iterate 10 times\n",
    "for i in range(1,11):\n",
    "   print(n,'x',i,'=',n*i)\n",
    "   "
   ]
  },
  {
   "cell_type": "code",
   "execution_count": 2,
   "id": "125591e3-a5a8-4438-b61a-1b4063ba2e75",
   "metadata": {},
   "outputs": [
    {
     "name": "stdout",
     "output_type": "stream",
     "text": [
      "[15, 14, 13, 12, 11, 10]\n"
     ]
    }
   ],
   "source": [
    "#13.Write a Python program to reverse a list using a for loop.\n",
    "# input list\n",
    "lst = [10, 11, 12, 13, 14, 15]\n",
    "# the above input can also be given as\n",
    "# lst=list(map(int,input().split()))\n",
    "l = [] # empty list\n",
    "\n",
    "# iterate to reverse the list\n",
    "for i in lst:\n",
    "\t# reversing the list\n",
    "\tl.insert(0, i)\n",
    "# printing result\n",
    "print(l)\n"
   ]
  },
  {
   "cell_type": "code",
   "execution_count": 3,
   "id": "02073fc0-658b-4954-b063-020e6e06cc61",
   "metadata": {},
   "outputs": [
    {
     "name": "stdout",
     "output_type": "stream",
     "text": [
      "[3, 5]\n"
     ]
    }
   ],
   "source": [
    "#14.Write a Python program to find the common elements between two lists using a for loop.\n",
    "a=[2,3,4,5]\n",
    "b=[3,5,7,9]\n",
    "\n",
    "def common(a,b): \n",
    "    c = [value for value in a if value in b] \n",
    "    return c\n",
    "\n",
    "d=common(a,b)\n",
    "print(d)"
   ]
  },
  {
   "cell_type": "code",
   "execution_count": 6,
   "id": "84be3382-f35b-4fba-a972-535224a1bf33",
   "metadata": {},
   "outputs": [
    {
     "name": "stdout",
     "output_type": "stream",
     "text": [
      "List Of given states:\n",
      "\n",
      "Gujarat\n",
      "Maharashtra\n",
      "Rajasthan\n",
      "Bihar\n"
     ]
    }
   ],
   "source": [
    "#15\n",
    "# Python3 code to iterate through all keys in a dictionary\n",
    "\n",
    "statesAndCapitals = {\n",
    "\t'Gujarat': 'Gandhinagar',\n",
    "\t'Maharashtra': 'Mumbai',\n",
    "\t'Rajasthan': 'Jaipur',\n",
    "\t'Bihar': 'Patna'\n",
    "}\n",
    "\n",
    "print('List Of given states:\\n')\n",
    "\n",
    "# Iterating over keys\n",
    "for state in statesAndCapitals:\n",
    "\tprint(state)\n",
    "\n",
    "\n"
   ]
  },
  {
   "cell_type": "code",
   "execution_count": 7,
   "id": "b7412a50-4537-4f73-b92f-f3300973c380",
   "metadata": {},
   "outputs": [
    {
     "name": "stdout",
     "output_type": "stream",
     "text": [
      "GCD of 12 & 17 = 1\n",
      "GCD of 4 & 6 = 2\n",
      "GCD of 336 & 360 = 24\n"
     ]
    }
   ],
   "source": [
    "#16.Write a Python program to find the GCD (Greatest Common Divisor) of two numbers using a for loop.\n",
    "\n",
    "def gcd(x, y):\n",
    "   gcd = 1   \n",
    "   if x % y == 0:\n",
    "       return y   \n",
    "   for k in range(int(y / 2), 0, -1):\n",
    "       if x % k == 0 and y % k == 0:\n",
    "           gcd = k\n",
    "           break \n",
    "   return gcd\n",
    "print(\"GCD of 12 & 17 =\",gcd(12, 17))\n",
    "print(\"GCD of 4 & 6 =\",gcd(4, 6))\n",
    "print(\"GCD of 336 & 360 =\",gcd(336, 360))\n"
   ]
  },
  {
   "cell_type": "code",
   "execution_count": 8,
   "id": "37a70e0c-0338-40b0-8ae3-2afc302c3e3c",
   "metadata": {},
   "outputs": [
    {
     "name": "stdout",
     "output_type": "stream",
     "text": [
      "True\n"
     ]
    }
   ],
   "source": [
    "#17.Create a Python program that checks if a string is a palindrome using a for loop.\n",
    "a_string = 'Was it a car or a cat I saw'\n",
    "\n",
    "def palindrome(a_string):\n",
    "    a_string = a_string.lower().replace(' ', '')\n",
    "    reversed_string = ''\n",
    "    for i in range(len(a_string), 0, -1):\n",
    "        reversed_string += a_string[i-1]\n",
    "    return a_string == reversed_string\n",
    "\n",
    "print(palindrome(a_string))\n"
   ]
  },
  {
   "cell_type": "code",
   "execution_count": 10,
   "id": "a52f92b6-49e2-4bb6-a28e-021f6e91adf1",
   "metadata": {},
   "outputs": [
    {
     "name": "stdout",
     "output_type": "stream",
     "text": [
      "9\n",
      "[1, 3, 4, 5, 6, '0', '0', '0']\n"
     ]
    }
   ],
   "source": [
    "#18.Write a Python program to remove duplicates from a list using a for loop.\n",
    "list = [1,1,3,4,5,5,5,6]\n",
    "count = 0\n",
    "for i in range(len(list)):\n",
    "    for k in range(len(list)):\n",
    "        if i == k :\n",
    "            continue\n",
    "        elif list[i] == list[k]:\n",
    "            del list[k]\n",
    "            list.append(\"0\")\n",
    "            count = count + 1\n",
    "\n",
    "print(count)\n",
    "print(list)"
   ]
  },
  {
   "cell_type": "code",
   "execution_count": 11,
   "id": "d6affb67-0502-4369-ac87-1af2923d993d",
   "metadata": {},
   "outputs": [
    {
     "name": "stdout",
     "output_type": "stream",
     "text": [
      "{'the': 2, 'quick': 1, 'brown': 1, 'fox': 1, 'jumps': 1, 'over': 1, 'lazy': 1, 'dog.': 1}\n"
     ]
    }
   ],
   "source": [
    "#19.Create a Python program that counts the number of words in a sentence using a for loop.\n",
    "def word_count(str):\n",
    "    counts = dict()\n",
    "    words = str.split()\n",
    "\n",
    "    for word in words:\n",
    "        if word in counts:\n",
    "            counts[word] += 1\n",
    "        else:\n",
    "            counts[word] = 1\n",
    "\n",
    "    return counts\n",
    "\n",
    "print( word_count('the quick brown fox jumps over the lazy dog.'))\n"
   ]
  },
  {
   "cell_type": "code",
   "execution_count": 13,
   "id": "466d0440-c4b3-456c-8c52-7caa089662b3",
   "metadata": {},
   "outputs": [
    {
     "name": "stdout",
     "output_type": "stream",
     "text": [
      "1 3 5 7 9 11 13 15 17 19 21 23 25 27 29 31 33 35 37 39 41 43 45 47 49 "
     ]
    }
   ],
   "source": [
    "#20.Write a Python program to find the sum of all odd numbers from 1 to 50 using a for loop.\n",
    "# Python program to print odd Numbers in given range\n",
    "\n",
    "start, end = 1, 50\n",
    "\n",
    "# iterating each number in list\n",
    "for num in range(start, end + 1):\n",
    "\t\n",
    "\t# checking condition\n",
    "\tif num % 2 != 0:\n",
    "\t\tprint(num, end = \" \")\n"
   ]
  },
  {
   "cell_type": "code",
   "execution_count": 1,
   "id": "a30ee6a0-d095-40d5-b711-4db3db76166d",
   "metadata": {},
   "outputs": [
    {
     "name": "stdin",
     "output_type": "stream",
     "text": [
      "Please select a starting year:  2000\n",
      "Please select how many years you'd like to check:  5\n"
     ]
    },
    {
     "name": "stdout",
     "output_type": "stream",
     "text": [
      "2000: Is a leap year\n",
      "2001\n",
      "2002\n",
      "2003\n",
      "2004: Is a leap year\n",
      "2005\n"
     ]
    }
   ],
   "source": [
    "#21.Write a Python program that checks if a given year is a leap year using a for loop.\n",
    "start_year = int(input(\"Please select a starting year: \"))\n",
    "num_of_years = int(input(\"Please select how many years you'd like to check: \"))\n",
    "end_year = start_year + num_of_years\n",
    "\n",
    "# The formula I used below to determine when a year is a leap year was copied from emrah-diril in this thread\n",
    "\n",
    "for year in range(start_year-1, end_year):\n",
    "    year += 1    \n",
    "    if year % 4 == 0 and (year % 100 != 0 or year % 400 == 0):\n",
    "        print (\"{}: Is a leap year\".format(year))\n",
    "    else:\n",
    "        print (year)"
   ]
  },
  {
   "cell_type": "code",
   "execution_count": 1,
   "id": "964c52b0-e64b-4b25-8974-fdf5d06d2b5f",
   "metadata": {},
   "outputs": [
    {
     "name": "stdout",
     "output_type": "stream",
     "text": [
      "[3.1622776601683795, 4.47213595499958, 5.522680508593631, 6.348228099241551, 7.127411872482185]\n"
     ]
    }
   ],
   "source": [
    "#22.Create a Python program that calculates the square root of a number using a for loop.\n",
    "\n",
    "\n",
    "import math\n",
    "\n",
    "numbers = [10, 20, 30.50, 40.30, 50.80]\n",
    "square_root = []\n",
    "\n",
    "for number in numbers:\n",
    "    square_root.append(math.sqrt(number))\n",
    "\n",
    "print(square_root)"
   ]
  },
  {
   "cell_type": "code",
   "execution_count": 2,
   "id": "a2243a71-a7b2-4d66-8a04-7f6a96eed61b",
   "metadata": {},
   "outputs": [
    {
     "name": "stdout",
     "output_type": "stream",
     "text": [
      "LCM of 10 and 5 is 10\n"
     ]
    }
   ],
   "source": [
    "#23.Write a Python program to find the LCM (Least Common Multiple) of two numbers using a for loop.\n",
    "# Python program to find LCM of two numbers \n",
    "\n",
    "# Function to return LCM of two numbers \n",
    "def LCM(a, b): \n",
    "\tgreater = max(a, b) \n",
    "\tsmallest = min(a, b) \n",
    "\tfor i in range(greater, a*b+1, greater): \n",
    "\t\tif i % smallest == 0: \n",
    "\t\t\treturn i \n",
    "\n",
    "# Driver program to test above function \n",
    "if __name__ == '__main__': \n",
    "\ta = 10\n",
    "\tb = 5\n",
    "\tprint(\"LCM of\", a, \"and\", b, \"is\", LCM(a, b)) \n"
   ]
  },
  {
   "cell_type": "code",
   "execution_count": 3,
   "id": "0f44ee9e-81ae-453e-90e7-04bfdc3b2435",
   "metadata": {},
   "outputs": [],
   "source": [
    "# IF & ELSE"
   ]
  },
  {
   "cell_type": "code",
   "execution_count": 4,
   "id": "4d3bfb57-dc09-44ed-b1a9-9131eb5faf4e",
   "metadata": {},
   "outputs": [
    {
     "name": "stdin",
     "output_type": "stream",
     "text": [
      "Enter a number:  9\n"
     ]
    },
    {
     "name": "stdout",
     "output_type": "stream",
     "text": [
      "Positive number\n"
     ]
    }
   ],
   "source": [
    "#1.Write a Python program to check if a number is positive, negative, or zero using an if-else statement.\n",
    "\n",
    "num = float(input(\"Enter a number: \"))\n",
    "if num > 0:\n",
    "    print(\"Positive number\")\n",
    "elif num == 0:\n",
    "    print(\"Zero\")\n",
    "else:\n",
    "    print(\"Negative number\")\n",
    "\n"
   ]
  },
  {
   "cell_type": "code",
   "execution_count": 5,
   "id": "5aa11a34-3292-4768-b053-46371a9d1f46",
   "metadata": {},
   "outputs": [
    {
     "name": "stdout",
     "output_type": "stream",
     "text": [
      "24 Is Even Number\n",
      "19 Is Even Number\n"
     ]
    }
   ],
   "source": [
    "#2.Create a Python program that checks if a given number is even or odd using an if-else statement.\n",
    "\n",
    "x = 24\n",
    "\n",
    "if x % 24 == 0:\n",
    "\tprint(x,\"Is Even Number\")\n",
    "else:\n",
    "\tprint(x, \"Is Odd Number\")\n",
    "\t\n",
    "y = 19\n",
    "\n",
    "if y % 19 == 0:\n",
    "\tprint(y,\"Is Even Number\")\n",
    "else:\n",
    "\tprint(y, \"Is Odd Number\")\n"
   ]
  },
  {
   "cell_type": "code",
   "execution_count": 6,
   "id": "4e6dd433-d38b-4a3b-bb9a-de28c3113e05",
   "metadata": {},
   "outputs": [
    {
     "name": "stdout",
     "output_type": "stream",
     "text": [
      "i is smaller than 15\n",
      "i is greater than 12 and smaller than 15\n"
     ]
    }
   ],
   "source": [
    "#3.How can you use nested if-else statements in Python, and provide an example?\n",
    "\n",
    "# Python program to demonstrate \n",
    "# nested if statement \n",
    "\n",
    "\n",
    "i = 13\n",
    "\n",
    "if (i == 13): \n",
    "\t# First if statement \n",
    "\tif (i < 15): \n",
    "\t\tprint (\"i is smaller than 15\") \n",
    "\t\t\n",
    "\t# Nested - if statement \n",
    "\t# Will only be executed if statement above \n",
    "\t# it is true \n",
    "\tif (i < 12): \n",
    "\t\tprint (\"i is smaller than 12 too\") \n",
    "\telse: \n",
    "\t\tprint (\"i is greater than 12 and smaller than 15\") \n"
   ]
  },
  {
   "cell_type": "code",
   "execution_count": 7,
   "id": "b470ecb5-34a8-41fe-8b80-73a8d7711552",
   "metadata": {},
   "outputs": [
    {
     "name": "stdout",
     "output_type": "stream",
     "text": [
      "The largest number is 3\n"
     ]
    }
   ],
   "source": [
    "#4.Write a Python program to determine the largest of three numbers using if-else.\n",
    "\n",
    "def maximum(a, b, c):\n",
    "    if (a >= b) and (a >= c):\n",
    "        largest = a\n",
    "\n",
    "    elif (b >= a) and (b >= c):\n",
    "        largest = b\n",
    "    else:\n",
    "        largest = c\n",
    "\n",
    "    return largest\n",
    "\n",
    "\n",
    "res = maximum(2, 3, 1)\n",
    "\n",
    "print(\"The largest number is\", res)"
   ]
  },
  {
   "cell_type": "code",
   "execution_count": 8,
   "id": "08b16000-5581-4474-9f2e-23ec7d0d91f9",
   "metadata": {},
   "outputs": [
    {
     "name": "stdin",
     "output_type": "stream",
     "text": [
      "Enter a number:  78\n"
     ]
    },
    {
     "name": "stdout",
     "output_type": "stream",
     "text": [
      "Absolute value: 78.0\n"
     ]
    }
   ],
   "source": [
    "#5.Write a Python program that calculates the absolute value of a number using if-else.\n",
    "\n",
    "\n",
    "number = float(input(\"Enter a number: \"))\n",
    "\n",
    "if number < 0:\n",
    "    absolute_value = -number\n",
    "else:\n",
    "    absolute_value = number\n",
    "\n",
    "print(\"Absolute value: \" + str(absolute_value))"
   ]
  },
  {
   "cell_type": "code",
   "execution_count": 9,
   "id": "9e488b21-5451-4d09-9c54-ebe0221188b3",
   "metadata": {},
   "outputs": [
    {
     "name": "stdout",
     "output_type": "stream",
     "text": [
      "Consonant\n",
      "Vowel\n"
     ]
    }
   ],
   "source": [
    "#6.Create a Python program that checks if a given character is a vowel or consonant using if-else.\n",
    "# Python3 program to check if a given \n",
    "# character is vowel or consonant. \n",
    "\n",
    "# Function to check whether a character \n",
    "# is vowel or not \n",
    "def vowelOrConsonant(x): \n",
    "\n",
    "\tif (x == 'a' or x == 'e' or\n",
    "\t\tx == 'i' or x == 'o' or x == 'u'): \n",
    "\t\tprint(\"Vowel\") \n",
    "\telse: \n",
    "\t\tprint(\"Consonant\") \n",
    "\n",
    "# Driver code \n",
    "vowelOrConsonant('c') \n",
    "vowelOrConsonant('e') \n",
    "\t\n"
   ]
  },
  {
   "cell_type": "code",
   "execution_count": 10,
   "id": "b057f7d4-5a03-4719-9b53-046cce0a134f",
   "metadata": {},
   "outputs": [
    {
     "name": "stdin",
     "output_type": "stream",
     "text": [
      "Enter your age:  19\n"
     ]
    },
    {
     "name": "stdout",
     "output_type": "stream",
     "text": [
      "You are eligible for voting\n"
     ]
    }
   ],
   "source": [
    "#7.Write a Python program to determine if a user is eligible to vote based on their age using if-else.\n",
    "\n",
    "age = int(input(\"Enter your age: \"))\n",
    "\n",
    "print(\"You are eligible for voting\" if age > 18 else \"You are not eligible for voting\")"
   ]
  },
  {
   "cell_type": "code",
   "execution_count": 11,
   "id": "4d582782-34e1-4204-89bf-ae3ea83506d9",
   "metadata": {},
   "outputs": [
    {
     "name": "stdin",
     "output_type": "stream",
     "text": [
      "Enter Sale Amount:  30000\n"
     ]
    },
    {
     "name": "stdout",
     "output_type": "stream",
     "text": [
      "Discount :  9000.0\n",
      "Net Pay  :  21000.0\n"
     ]
    }
   ],
   "source": [
    "#8.Create a Python program that calculates the discount amount based on the purchase amount using if-else.\n",
    "\n",
    "# input sale amount\n",
    "amt = int(input(\"Enter Sale Amount: \"))\n",
    "\n",
    "# checking conditions and calculating discount\n",
    "if(amt>0):\n",
    "    if amt<=5000:\n",
    "       disc = amt*0.05\n",
    "    elif amt<=15000:\n",
    "        disc=amt*0.12\n",
    "    elif amt<=25000:\n",
    "        disc=0.2 * amt\n",
    "    else:\n",
    "         disc=0.3 * amt\n",
    "\n",
    "    print(\"Discount : \",disc)\n",
    "    print(\"Net Pay  : \",amt-disc)\n",
    "else:\n",
    "    print(\"Invalid Amount\")\n"
   ]
  },
  {
   "cell_type": "code",
   "execution_count": 13,
   "id": "2ab79629-5eb8-48a9-be20-4485bfd612c7",
   "metadata": {},
   "outputs": [
    {
     "name": "stdout",
     "output_type": "stream",
     "text": [
      "ok\n"
     ]
    }
   ],
   "source": [
    "#9.Write a Python program to check if a number is within a specified range using if-else.\n",
    "\n",
    "number = 14\n",
    "if 0  <= number < 15:\n",
    "    if 3 in range(5):\n",
    "        print('ok')\n",
    "    else:\n",
    "        print('no')\n",
    "   # number is between 0 and 15\n"
   ]
  },
  {
   "cell_type": "code",
   "execution_count": 14,
   "id": "891d6036-eb90-4031-be15-663337187296",
   "metadata": {},
   "outputs": [
    {
     "name": "stdout",
     "output_type": "stream",
     "text": [
      "Enter Marks Obtained in 5 Subjects: \n"
     ]
    },
    {
     "name": "stdin",
     "output_type": "stream",
     "text": [
      " 78\n",
      " 90\n",
      " 80\n",
      " 89\n",
      " 88\n"
     ]
    },
    {
     "name": "stdout",
     "output_type": "stream",
     "text": [
      "Your Grade is A2\n"
     ]
    }
   ],
   "source": [
    "#10.Create a Python program that determines the grade of a student based on their score using if-else.\n",
    "\n",
    "print(\"Enter Marks Obtained in 5 Subjects: \")\n",
    "markOne = int(input())\n",
    "markTwo = int(input())\n",
    "markThree = int(input())\n",
    "markFour = int(input())\n",
    "markFive = int(input())\n",
    "\n",
    "tot = markOne+markTwo+markThree+markFour+markFive\n",
    "avg = tot/5\n",
    "\n",
    "if avg>=91 and avg<=100:\n",
    "    print(\"Your Grade is A1\")\n",
    "elif avg>=81 and avg<91:\n",
    "    print(\"Your Grade is A2\")\n",
    "elif avg>=71 and avg<81:\n",
    "    print(\"Your Grade is B1\")\n",
    "elif avg>=61 and avg<71:\n",
    "    print(\"Your Grade is B2\")\n",
    "elif avg>=51 and avg<61:\n",
    "    print(\"Your Grade is C1\")\n",
    "elif avg>=41 and avg<51:\n",
    "    print(\"Your Grade is C2\")\n",
    "elif avg>=33 and avg<41:\n",
    "    print(\"Your Grade is D\")\n",
    "elif avg>=21 and avg<33:\n",
    "    print(\"Your Grade is E1\")\n",
    "elif avg>=0 and avg<21:\n",
    "    print(\"Your Grade is E2\")\n",
    "else:\n",
    "    print(\"Invalid Input!\")"
   ]
  },
  {
   "cell_type": "code",
   "execution_count": 15,
   "id": "7c551437-b4ca-429f-b790-0f32f54704c7",
   "metadata": {},
   "outputs": [
    {
     "name": "stdout",
     "output_type": "stream",
     "text": [
      "The zero length string without spaces is empty ? : Yes\n",
      "The zero length string with just spaces is empty ? : No\n"
     ]
    }
   ],
   "source": [
    "#11.Write a Python program to check if a string is empty or not using if-else.\n",
    "\n",
    "# initializing string\n",
    "test_str1 = \"\"\n",
    "test_str2 = \" \"\n",
    "\n",
    "# checking if string is empty\n",
    "print(\"The zero length string without spaces is empty ? : \", end=\"\")\n",
    "if(len(test_str1) == 0):\n",
    "\tprint(\"Yes\")\n",
    "else:\n",
    "\tprint(\"No\")\n",
    "\n",
    "# prints No\n",
    "print(\"The zero length string with just spaces is empty ? : \", end=\"\")\n",
    "if(len(test_str2) == 0):\n",
    "\tprint(\"Yes\")\n",
    "else:\n",
    "\tprint(\"No\")\n"
   ]
  },
  {
   "cell_type": "code",
   "execution_count": 16,
   "id": "b226401a-eb46-44fe-a026-eca5d25226d1",
   "metadata": {},
   "outputs": [
    {
     "name": "stdin",
     "output_type": "stream",
     "text": [
      "Enter length of side a:  4\n",
      "Enter length of side b:  8\n",
      "Enter length of side c:  6\n"
     ]
    },
    {
     "name": "stdout",
     "output_type": "stream",
     "text": [
      "Triangle is Scalane\n"
     ]
    }
   ],
   "source": [
    "#12.Create a Python program that identifies the type of a triangle (e.g., equilateral, isosceles, or scalene) based on input values using if-else.\n",
    "\n",
    "def is_valid_triangle(a,b,c):\n",
    "    if a+b>=c and b+c>=a and c+a>=b:\n",
    "        return True\n",
    "    else:\n",
    "        return False\n",
    "\n",
    "# Function definition for type\n",
    "def type_of_triangle(a,b,c):\n",
    "    if a==b and b==c:\n",
    "        print('Triangle is Equilateral.')\n",
    "    elif a==b or b==c or a==c:\n",
    "        print('Triangle is Isosceles.')\n",
    "    else:\n",
    "        print('Triangle is Scalane')\n",
    "\n",
    "# Reading Three Sides\n",
    "side_a = float(input('Enter length of side a: '))\n",
    "side_b = float(input('Enter length of side b: '))\n",
    "side_c = float(input('Enter length of side c: '))\n",
    "\n",
    "# Function call & making decision\n",
    "if is_valid_triangle(side_a, side_b, side_c):\n",
    "    type_of_triangle(side_a, side_b, side_c)\n",
    "else:\n",
    "    print('Tringle is not possible from given sides.')"
   ]
  },
  {
   "cell_type": "code",
   "execution_count": 17,
   "id": "dfc99f9f-3ea2-4f7d-96fb-f9598d7eb8de",
   "metadata": {},
   "outputs": [
    {
     "name": "stdin",
     "output_type": "stream",
     "text": [
      "Enter weekday day number (1-7) :  5\n"
     ]
    },
    {
     "name": "stdout",
     "output_type": "stream",
     "text": [
      "\n",
      "Friday\n"
     ]
    }
   ],
   "source": [
    "#13.Write a Python program to determine the day of the week based on a user-provided number using if-else.\n",
    "# Taken day number from user\n",
    "weekday = int(input(\"Enter weekday day number (1-7) : \"))\n",
    "\n",
    "if weekday == 1 :\n",
    "    print(\"\\nMonday\");\n",
    "\n",
    "elif weekday == 2 :\n",
    "    print(\"\\nTuesday\")\n",
    "\n",
    "elif(weekday == 3) :\n",
    "    print(\"\\nWednesday\")\n",
    "\n",
    "elif(weekday == 4) :\n",
    "    print(\"\\nThursday\")\n",
    "\n",
    "elif(weekday == 5) :\n",
    "    print(\"\\nFriday\")\n",
    "\n",
    "elif(weekday == 6) :\n",
    "    print(\"\\nSaturday\")\n",
    "\n",
    "elif (weekday == 7) :\n",
    "    print(\"\\nSunday\")\n",
    "\n",
    "else :\n",
    "    print(\"\\nPlease enter weekday number between 1-7.\")"
   ]
  },
  {
   "cell_type": "code",
   "execution_count": 18,
   "id": "668eea7f-4dee-48b7-b597-d0451e581c83",
   "metadata": {},
   "outputs": [
    {
     "name": "stdout",
     "output_type": "stream",
     "text": [
      "Leap Year\n"
     ]
    }
   ],
   "source": [
    "#14.\n",
    "def checkYear(year): \n",
    "\t\n",
    "\t# Return true if year is a multiple \n",
    "\t# of 4 and not multiple of 100. \n",
    "\t# OR year is multiple of 400. \n",
    "\timport calendar\n",
    "\treturn(calendar.isleap(year)) \n",
    "\t\n",
    "# Driver Code \n",
    "year = 2000\n",
    "if (checkYear(year)): \n",
    "\tprint(\"Leap Year\") \n",
    "else: \n",
    "\tprint(\"Not a Leap Year\") \n",
    "\t\t\n",
    "# This code is contributed by Chin\n"
   ]
  },
  {
   "cell_type": "code",
   "execution_count": 22,
   "id": "78be4f3a-95dc-405a-8718-593cb9f57422",
   "metadata": {},
   "outputs": [],
   "source": [
    "#15.How do you use the \"assert\" statement in Python to add debugging checks within if-else blo\n",
    "\n",
    "\n",
    "def get_response(server, ports=(443, 80)):\n",
    "    assert len(ports) > 0, f\"ports expected a non-empty tuple, got {ports}\"\n",
    "    for port in ports:\n",
    "        if server.connect(port):\n",
    "            return server.get()\n",
    "    return None"
   ]
  },
  {
   "cell_type": "code",
   "execution_count": 23,
   "id": "25d1016f-3cb3-44f0-a3fe-7d5e1bb18026",
   "metadata": {},
   "outputs": [
    {
     "name": "stdin",
     "output_type": "stream",
     "text": [
      "Enter you age:  78\n"
     ]
    },
    {
     "name": "stdout",
     "output_type": "stream",
     "text": [
      "You are a senior citizen\n"
     ]
    }
   ],
   "source": [
    "#16.Create a Python program that determines the eligibility of a person for a senior citizen discount based on age using if-else.\n",
    "\n",
    "age = int(input(\"Enter you age: \"))\n",
    "\n",
    "if age >= 60:\n",
    "    print(\"You are a senior citizen\")\n",
    "else:\n",
    "    print(\"You are not a senior citizen\")"
   ]
  },
  {
   "cell_type": "code",
   "execution_count": 24,
   "id": "7c43561d-e86e-430f-9fd2-7571e7fcb86a",
   "metadata": {},
   "outputs": [
    {
     "name": "stdin",
     "output_type": "stream",
     "text": [
      "Please Enter Your Own Character :  subhajit\n"
     ]
    },
    {
     "name": "stdout",
     "output_type": "stream",
     "text": [
      "The Given Character  subhajit is a Lowercase Alphabet\n"
     ]
    }
   ],
   "source": [
    "#17.Write a Python program to categorize a given character as uppercase, lowercase, or neither using if-else.\n",
    "# Python Program to check character is Lowercase or Uppercase\n",
    "ch = input(\"Please Enter Your Own Character : \")\n",
    "\n",
    "if(ch.isupper()):\n",
    "    print(\"The Given Character \", ch, \"is an Uppercase Alphabet\")\n",
    "elif(ch.islower()):\n",
    "    print(\"The Given Character \", ch, \"is a Lowercase Alphabet\")\n",
    "else:\n",
    "    print(\"The Given Character \", ch, \"is Not a Lower or Uppercase Alphabet\")\n",
    "\n"
   ]
  },
  {
   "cell_type": "code",
   "execution_count": 25,
   "id": "3805569e-10c2-4308-9dbe-205b086c2816",
   "metadata": {},
   "outputs": [
    {
     "name": "stdout",
     "output_type": "stream",
     "text": [
      "real and different roots\n",
      "2.0\n",
      "-12.0\n"
     ]
    }
   ],
   "source": [
    "#18.Write a Python program to determine the roots of a quadratic equation using if-else.\n",
    "\n",
    "# Python program to find roots of quadratic equation\n",
    "import math \n",
    "\n",
    "\n",
    "# function for finding roots\n",
    "def equationroots( a, b, c): \n",
    "\n",
    "\t# calculating discriminant using formula\n",
    "\tdis = b * b - 4 * a * c \n",
    "\tsqrt_val = math.sqrt(abs(dis)) \n",
    "\t\n",
    "\t# checking condition for discriminant\n",
    "\tif dis > 0: \n",
    "\t\tprint(\"real and different roots\") \n",
    "\t\tprint((-b + sqrt_val)/(2 * a)) \n",
    "\t\tprint((-b - sqrt_val)/(2 * a)) \n",
    "\t\n",
    "\telif dis == 0: \n",
    "\t\tprint(\"real and same roots\") \n",
    "\t\tprint(-b / (2 * a)) \n",
    "\t\n",
    "\t# when discriminant is less than 0\n",
    "\telse:\n",
    "\t\tprint(\"Complex Roots\") \n",
    "\t\tprint(- b / (2 * a), + i, sqrt_val) \n",
    "\t\tprint(- b / (2 * a), - i, sqrt_val) \n",
    "\n",
    "# Driver Program \n",
    "a = 1\n",
    "b = 10\n",
    "c = -24\n",
    "\n",
    "# If a is 0, then incorrect equation\n",
    "if a == 0: \n",
    "\t\tprint(\"Input correct quadratic equation\") \n",
    "\n",
    "else:\n",
    "\tequationroots(a, b, c)\n"
   ]
  },
  {
   "cell_type": "code",
   "execution_count": 26,
   "id": "e10d8575-7794-4559-9544-c12e6a8cdf37",
   "metadata": {},
   "outputs": [
    {
     "name": "stdout",
     "output_type": "stream",
     "text": [
      "21 century\n"
     ]
    }
   ],
   "source": [
    "#19.Create a Python program that checks if a given year is a century year or not using if-else.\n",
    "\n",
    "# Python3 code for find the century \n",
    "# in a given year \n",
    "\n",
    "def find_century(year): \n",
    "\t\n",
    "\t# No negative value is allow for year \n",
    "\tif (year <= 0): \n",
    "\t\tprint(\"0 and negative is not allow for a year\") \n",
    "\t\t\n",
    "\t# If year is between 1 to 100 it \n",
    "\t# will come in 1st century \n",
    "\telif (year <= 100): \n",
    "\t\tprint(\"1st century\") \n",
    "\telif (year % 100 == 0): \n",
    "\t\tprint(year // 100,\"century\") \n",
    "\telse: \n",
    "\t\tprint(year // 100 + 1,\"century\") \n",
    "\n",
    "# Driver code \n",
    "year = 2001\n",
    "find_century(year) \n",
    "\n",
    "# This code is contributed by shubhamsingh10\n"
   ]
  },
  {
   "cell_type": "code",
   "execution_count": 28,
   "id": "4556910e-fca6-492e-86e8-43ddc362f378",
   "metadata": {},
   "outputs": [
    {
     "name": "stdout",
     "output_type": "stream",
     "text": [
      "25 is a valid perfect square\n",
      "True\n",
      "\n",
      "\n",
      "23 is a valid perfect square\n",
      "False\n"
     ]
    }
   ],
   "source": [
    "#20.Write a Python program to determine if a given number is a perfect square using if-else.\n",
    "def is_perfect_square(num) :\n",
    "    left, right = 0, num\n",
    "    while left <= right:\n",
    "        mid = (left + right) // 2\n",
    "        if mid**2 < num:\n",
    "            left = mid + 1\n",
    "        elif mid**2 > num:\n",
    "            right = mid - 1\n",
    "        else:\n",
    "            return True\n",
    "    return False\n",
    "\n",
    "print(\"25 is a valid perfect square\")\n",
    "print(is_perfect_square(25))\n",
    "print(\"\\n\")\n",
    "print(\"23 is a valid perfect square\")\n",
    "print(is_perfect_square(23))"
   ]
  },
  {
   "cell_type": "code",
   "execution_count": 29,
   "id": "da737f2b-13ae-4d5e-8c97-7851aef29ce9",
   "metadata": {},
   "outputs": [
    {
     "name": "stdout",
     "output_type": "stream",
     "text": [
      "g\n",
      "e\n",
      "Out of for loop\n",
      "\n",
      "g\n",
      "e\n",
      "Out of while loop\n"
     ]
    }
   ],
   "source": [
    "#21.Explain the purpose of the \"continue\" and \"break\" statements within if-else loops.\n",
    "\n",
    "# Python program to demonstrate \n",
    "# break statement \n",
    "\n",
    "s = 'geeksforgeeks'\n",
    "# Using for loop \n",
    "for letter in s: \n",
    "\n",
    "\tprint(letter) \n",
    "\t# break the loop as soon it sees 'e' \n",
    "\t# or 's' \n",
    "\tif letter == 'e' or letter == 's': \n",
    "\t\tbreak\n",
    "\n",
    "print(\"Out of for loop\") \n",
    "print() \n",
    "\n",
    "i = 0\n",
    "\n",
    "# Using while loop \n",
    "while True: \n",
    "\tprint(s[i]) \n",
    "\n",
    "\t# break the loop as soon it sees 'e' \n",
    "\t# or 's' \n",
    "\tif s[i] == 'e' or s[i] == 's': \n",
    "\t\tbreak\n",
    "\ti += 1\n",
    "\n",
    "print(\"Out of while loop\")\n"
   ]
  },
  {
   "cell_type": "code",
   "execution_count": 30,
   "id": "3ec5d119-f750-48f4-b038-5b0925485415",
   "metadata": {},
   "outputs": [
    {
     "name": "stdin",
     "output_type": "stream",
     "text": [
      "Enter your height(m):  5.9\n",
      "Enter your weight(kg):  23\n"
     ]
    },
    {
     "name": "stdout",
     "output_type": "stream",
     "text": [
      "Your BMI is:  0.66\n"
     ]
    }
   ],
   "source": [
    "#22.Create a Python program that calculates the BMI (Body Mass Index) of a person based on their weight and height using if-else.\n",
    "\n",
    "height = float(input(\"Enter your height(m): \"))\n",
    "weight = float(input(\"Enter your weight(kg): \"))\n",
    "print(\"Your BMI is: \", round(weight / (height * height), 2))"
   ]
  },
  {
   "cell_type": "code",
   "execution_count": 31,
   "id": "fa9efb4f-ff59-4ba3-a05f-bf09212fc15d",
   "metadata": {},
   "outputs": [
    {
     "name": "stdout",
     "output_type": "stream",
     "text": [
      "The filtered letters are:\n",
      "e\n",
      "e\n"
     ]
    }
   ],
   "source": [
    "#23.How can you use the \"filter()\" function with if-else statements to filter elements from a list?\n",
    "# function that filters vowels\n",
    "def fun(variable):\n",
    "\tletters = ['a', 'e', 'i', 'o', 'u']\n",
    "\tif (variable in letters):\n",
    "\t\treturn True\n",
    "\telse:\n",
    "\t\treturn False\n",
    "\n",
    "\n",
    "# sequence\n",
    "sequence = ['g', 'e', 'e', 'j', 'k', 's', 'p', 'r']\n",
    "\n",
    "# using filter function\n",
    "filtered = filter(fun, sequence)\n",
    "\n",
    "print('The filtered letters are:')\n",
    "for s in filtered:\n",
    "\tprint(s)\n"
   ]
  },
  {
   "cell_type": "code",
   "execution_count": 32,
   "id": "e5ae54b4-7d20-4f8a-9158-47a0518385e4",
   "metadata": {},
   "outputs": [
    {
     "name": "stdout",
     "output_type": "stream",
     "text": [
      "11 is a prime number\n"
     ]
    }
   ],
   "source": [
    "#24.Write a Python program to determine if a given number is prime or not using if-else.\n",
    "\n",
    "num = 11\n",
    "# If given number is greater than 1\n",
    "if num > 1:\n",
    "\t# Iterate from 2 to n / 2\n",
    "\tfor i in range(2, int(num/2)+1):\n",
    "\t\t# If num is divisible by any number between\n",
    "\t\t# 2 and n / 2, it is not prime\n",
    "\t\tif (num % i) == 0:\n",
    "\t\t\tprint(num, \"is not a prime number\")\n",
    "\t\t\tbreak\n",
    "\telse:\n",
    "\t\tprint(num, \"is a prime number\")\n",
    "else:\n",
    "\tprint(num, \"is not a prime number\")\n"
   ]
  },
  {
   "cell_type": "code",
   "execution_count": 33,
   "id": "cb8be450-dc37-4f4a-98aa-d1cba690db5e",
   "metadata": {},
   "outputs": [],
   "source": [
    "#MAPS"
   ]
  },
  {
   "cell_type": "code",
   "execution_count": 34,
   "id": "50a2d94d-5662-4e4c-a982-a672cfe21c1c",
   "metadata": {},
   "outputs": [
    {
     "name": "stdout",
     "output_type": "stream",
     "text": [
      "[6, 6, 7, 9, 8, 6, 8]\n"
     ]
    }
   ],
   "source": [
    "#1.Explain the purpose of the `map()` function in Python and provide an example of how it can be used to apply a function to each element of an iterable.\n",
    "def func(x):\n",
    " \n",
    "     return len(x)\n",
    " \n",
    "a = [ 'Sunday' , 'Monday' , 'Tuesday' , 'Wednesday' , 'Thursday' , 'Friday' , 'Saturday' ]\n",
    " \n",
    "b = map( func , a )\n",
    " \n",
    "print(list(b))\n"
   ]
  },
  {
   "cell_type": "code",
   "execution_count": 37,
   "id": "c10b21ce-4e45-4025-924c-71710683db25",
   "metadata": {},
   "outputs": [
    {
     "name": "stdout",
     "output_type": "stream",
     "text": [
      "Original List:  [4, 5, 2, 9]\n",
      "Square the elements of the said list using map():\n",
      "[16, 25, 4, 81]\n"
     ]
    }
   ],
   "source": [
    "#2.Write a Python program that uses the `map()` function to square each element of a list of numbers.\n",
    "def square_num(n):\n",
    "  return n * n\n",
    "nums = [4, 5, 2, 9]\n",
    "print(\"Original List: \",nums)\n",
    "result = map(square_num, nums)\n",
    "print(\"Square the elements of the said list using map():\")\n",
    "print(list(result))\n"
   ]
  },
  {
   "cell_type": "code",
   "execution_count": 38,
   "id": "50102cb6-cba6-484b-93c4-135662e87bbb",
   "metadata": {},
   "outputs": [
    {
     "name": "stdout",
     "output_type": "stream",
     "text": [
      "<map object at 0x7fb7c74edff0>\n",
      "[4, 88, 11.0, 12, -14]\n"
     ]
    }
   ],
   "source": [
    "#3.How does the `map()` function differ from a list comprehension in Python, and when would you choose one over the other?\n",
    "\n",
    "# function to double the number \n",
    "def num (n) : \n",
    "\treturn n * 2\n",
    "\t\t\n",
    "lst = [2, 44, 5.5, 6, -7] \n",
    "\n",
    "# suppose we want to call function \n",
    "# 'num' for each element of lst, \n",
    "# we use map \n",
    "\n",
    "# creates a map object \n",
    "x = map(num, lst) \n",
    "print(x) \n",
    "\n",
    "# returns list \n",
    "print(list(x)) \n"
   ]
  },
  {
   "cell_type": "code",
   "execution_count": 40,
   "id": "8ff382d0-cd5a-48c2-9417-079972cb8939",
   "metadata": {},
   "outputs": [
    {
     "name": "stdout",
     "output_type": "stream",
     "text": [
      "Original Characters:\n",
      " {'a', 'b', 'U', 'f', 'i', 'o', 'E'}\n",
      "\n",
      "After converting above characters in upper and lower cases\n",
      "and eliminating duplicate letters:\n",
      "{('U', 'u'), ('F', 'f'), ('I', 'i'), ('B', 'b'), ('E', 'e'), ('O', 'o'), ('A', 'a')}\n"
     ]
    }
   ],
   "source": [
    "#4.Create a Python program that uses the `map()` function to convert a list of names to upper\n",
    "\n",
    "def change_cases(s):\n",
    "  return str(s).upper(), str(s).lower()\n",
    " \n",
    "chrars = {'a', 'b', 'E', 'f', 'a', 'i', 'o', 'U', 'a'}\n",
    "print(\"Original Characters:\\n\",chrars)\n",
    " \n",
    "result = map(change_cases, chrars)\n",
    "print(\"\\nAfter converting above characters in upper and lower cases\\nand eliminating duplicate letters:\")\n",
    "print(set(result))\n"
   ]
  },
  {
   "cell_type": "code",
   "execution_count": 41,
   "id": "dac177e6-3dfd-47d0-bf0e-1b09c24f1a2b",
   "metadata": {},
   "outputs": [
    {
     "data": {
      "text/plain": [
       "[6, 2, 6, 3, 2, 3]"
      ]
     },
     "execution_count": 41,
     "metadata": {},
     "output_type": "execute_result"
    }
   ],
   "source": [
    "#5.Write a Python program that uses the `map()` function to calculate the length of each word in a list of strings.\n",
    "\n",
    "s = \"python is pretty fun to use\"\n",
    "map(len, s.split())       # assuming Python 2.x\n",
    "list(map(len, s.split())) # assuming Python 3.x"
   ]
  },
  {
   "cell_type": "code",
   "execution_count": 44,
   "id": "90ea6559-188b-4ec8-b2e1-8aee428d16ed",
   "metadata": {},
   "outputs": [],
   "source": [
    "#6.How can you use the `map()` function to apply a custom function to elements of multiple lists simultaneously in Python?\n",
    "listOne = [2, 4, 6]\n",
    "listTwo = [1, 2, 3, 7]\n",
    "\n",
    ">>> list(map(pow, listOne, listTwo))\n",
    "# Output: [2, 16, 216]"
   ]
  },
  {
   "cell_type": "code",
   "execution_count": 1,
   "id": "2a9c975d-ff70-47af-876f-f8015f4d5824",
   "metadata": {},
   "outputs": [
    {
     "name": "stdout",
     "output_type": "stream",
     "text": [
      "37.5 degree Celsius is equal to 99.5 degree Fahrenheit\n"
     ]
    }
   ],
   "source": [
    "#7.Create a Python program that uses `map()` to convert a list of temperatures from Celsius to Fahrenheit.\n",
    "\n",
    "# Python Program to convert temperature in celsius to fahrenheit\n",
    "\n",
    "# change this value for a different result\n",
    "celsius = 37.5\n",
    "\n",
    "# calculate fahrenheit\n",
    "fahrenheit = (celsius * 1.8) + 32\n",
    "print('%0.1f degree Celsius is equal to %0.1f degree Fahrenheit' %(celsius,fahrenheit))\n",
    "\n"
   ]
  },
  {
   "cell_type": "code",
   "execution_count": 4,
   "id": "c82e6b3f-cde3-4e73-9bc9-78f89a77576a",
   "metadata": {},
   "outputs": [
    {
     "name": "stdout",
     "output_type": "stream",
     "text": [
      "[3.57, 5.577, 4.0091, 56.24241, 9.01344]\n"
     ]
    }
   ],
   "source": [
    "#8.Write a Python program that uses the `map()` function to round each element of a list of floating-point numbers to the nearest integer.\n",
    "\n",
    "circle_areas = [3.56773, 5.57668, 4.00914, 56.24241, 9.01344, 32.00013]\n",
    "result = list(map(round, circle_areas, range(2, 7)))\n",
    "print(result)"
   ]
  },
  {
   "cell_type": "code",
   "execution_count": 5,
   "id": "94775b3f-b74f-4439-98ba-6f4cc20324dc",
   "metadata": {},
   "outputs": [],
   "source": [
    "#maps"
   ]
  },
  {
   "cell_type": "code",
   "execution_count": 6,
   "id": "8bb3a31c-8ae5-4138-9d28-ac289792ebc5",
   "metadata": {},
   "outputs": [
    {
     "name": "stdout",
     "output_type": "stream",
     "text": [
      "The sum of the list elements is : 17\n",
      "The maximum element of the list is : 6\n"
     ]
    }
   ],
   "source": [
    "#1.What is the `reduce()` function in Python, and what module should you import to use it? Provide an example of its basic usage.\n",
    "\n",
    "# python code to demonstrate working of reduce() \n",
    "\n",
    "# importing functools for reduce() \n",
    "import functools \n",
    "\n",
    "# initializing list \n",
    "lis = [1, 3, 5, 6, 2] \n",
    "\n",
    "# using reduce to compute sum of list \n",
    "print(\"The sum of the list elements is : \", end=\"\") \n",
    "print(functools.reduce(lambda a, b: a+b, lis)) \n",
    "\n",
    "# using reduce to compute maximum element from list \n",
    "print(\"The maximum element of the list is : \", end=\"\") \n",
    "print(functools.reduce(lambda a, b: a if a > b else b, lis)) \n"
   ]
  },
  {
   "cell_type": "code",
   "execution_count": 7,
   "id": "7a115bf9-c25a-4afb-b01c-5a0f504523d8",
   "metadata": {},
   "outputs": [
    {
     "name": "stdout",
     "output_type": "stream",
     "text": [
      "The sum of the list elements is : 17\n",
      "The product of list elements is : 180\n",
      "The concatenated product is : geeksforgeeks\n"
     ]
    }
   ],
   "source": [
    "#2.Write a Python program that uses the `reduce()` function to find the product of all elements in a list.\n",
    "# python code to demonstrate working of reduce() \n",
    "# using operator functions \n",
    "\n",
    "# importing functools for reduce() \n",
    "import functools \n",
    "\n",
    "# importing operator for operator functions \n",
    "import operator \n",
    "\n",
    "# initializing list \n",
    "lis = [1, 3, 5, 6, 2] \n",
    "\n",
    "# using reduce to compute sum of list \n",
    "# using operator functions \n",
    "print(\"The sum of the list elements is : \", end=\"\") \n",
    "print(functools.reduce(operator.add, lis)) \n",
    "\n",
    "# using reduce to compute product \n",
    "# using operator functions \n",
    "print(\"The product of list elements is : \", end=\"\") \n",
    "print(functools.reduce(operator.mul, lis)) \n",
    "\n",
    "# using reduce to concatenate string \n",
    "print(\"The concatenated product is : \", end=\"\") \n",
    "print(functools.reduce(operator.add, [\"geeks\", \"for\", \"geeks\"])) \n",
    "\n"
   ]
  },
  {
   "cell_type": "code",
   "execution_count": 8,
   "id": "1e1f1e98-ee7e-4d31-8003-da42bf1b596e",
   "metadata": {},
   "outputs": [
    {
     "name": "stdout",
     "output_type": "stream",
     "text": [
      "100\n"
     ]
    }
   ],
   "source": [
    "#3.Create a Python program that uses `reduce()` to find the maximum element in a list of numbers.\n",
    "from functools import reduce\n",
    "lst = [20, 10, 20, 4, 100]\n",
    "largest_elem = reduce(max, lst)\n",
    "print(largest_elem)\n"
   ]
  },
  {
   "cell_type": "code",
   "execution_count": 10,
   "id": "553d67e9-96a7-4fd4-bbb9-f302fa1a9825",
   "metadata": {},
   "outputs": [
    {
     "name": "stdout",
     "output_type": "stream",
     "text": [
      "hello geek have a geeky day\n"
     ]
    }
   ],
   "source": [
    "#4.How can you use the `reduce()` function to concatenate a list of strings into a single string?\n",
    "from functools import reduce\n",
    "\n",
    "l = ['hello', 'geek', 'have',\n",
    "\t'a', 'geeky', 'day']\n",
    "\n",
    "# Concatenate all items in list to a string\n",
    "res = reduce(lambda x, y: x + ' ' + y, map(str, l))\n",
    "print(res)\n"
   ]
  },
  {
   "cell_type": "code",
   "execution_count": null,
   "id": "c570db73-d309-4e4a-9f3a-1ee3c59e896b",
   "metadata": {},
   "outputs": [],
   "source": [
    "#5.Write a Python program that calculates the factorial of a number using the `reduce()` function.\n",
    "from functools import reduce\n",
    "\n",
    "n = int(input())\n",
    "f = reduce(lambda n : n * (n - 1) if n > 1 else n)\n",
    "print(f)"
   ]
  },
  {
   "cell_type": "code",
   "execution_count": 1,
   "id": "fda5ed7f-f5c8-4c6c-b7ec-90de02995658",
   "metadata": {},
   "outputs": [
    {
     "name": "stdout",
     "output_type": "stream",
     "text": [
      "The sum of the list elements is : 17\n",
      "The maximum element of the list is : 6\n"
     ]
    }
   ],
   "source": [
    "#7.Create a Python program that uses `reduce()` to find the GCD (Greatest Common Divisor) of a list of numbers.\n",
    "\n",
    "# python code to demonstrate working of reduce() \n",
    "\n",
    "# importing functools for reduce() \n",
    "import functools \n",
    "\n",
    "# initializing list \n",
    "lis = [1, 3, 5, 6, 2] \n",
    "\n",
    "# using reduce to compute sum of list \n",
    "print(\"The sum of the list elements is : \", end=\"\") \n",
    "print(functools.reduce(lambda a, b: a+b, lis)) \n",
    "\n",
    "# using reduce to compute maximum element from list \n",
    "print(\"The maximum element of the list is : \", end=\"\") \n",
    "print(functools.reduce(lambda a, b: a if a > b else b, lis)) \n"
   ]
  },
  {
   "cell_type": "code",
   "execution_count": 2,
   "id": "41e787e2-1cbc-4246-86ee-817e689b2395",
   "metadata": {},
   "outputs": [],
   "source": [
    "##filtr"
   ]
  },
  {
   "cell_type": "code",
   "execution_count": 3,
   "id": "d41746ec-943c-4f94-86f0-5e4169510c88",
   "metadata": {},
   "outputs": [
    {
     "name": "stdout",
     "output_type": "stream",
     "text": [
      "[2, 4, 6, 8, 10]\n"
     ]
    }
   ],
   "source": [
    "#1Explain the purpose of the `filter()` function in Python and provide an example of how it can be used to filter elements from an iterable.\n",
    "\n",
    "numbers = [1, 2, 3, 4, 5, 6, 7, 8, 9, 10]\n",
    "even_numbers = list(filter(lambda x: x % 2 == 0, numbers))\n",
    "print(even_numbers)\n",
    "\n",
    "#The filter() function in Python is a built-in function that allows you to filter elements from an iterable based on a given condition. It returns an iterator that contains only the elements for which the condition is True. The syntax of the filter() function is as follows:"
   ]
  },
  {
   "cell_type": "code",
   "execution_count": 4,
   "id": "d46df4ad-4a53-41dd-9519-dd26b3d89bb1",
   "metadata": {},
   "outputs": [
    {
     "name": "stdout",
     "output_type": "stream",
     "text": [
      "Original List : [2, 5, 7, 8, 10, 13, 16]\n",
      "Filtered List : [2, 8, 10, 16]\n"
     ]
    }
   ],
   "source": [
    "#2.\n",
    "def even(x):\n",
    "    return x % 2 == 0\n",
    "\n",
    "a = [2, 5, 7, 8, 10, 13, 16]\n",
    "\n",
    "result = filter(even, a)\n",
    "print('Original List :', a)\n",
    "print('Filtered List :', list(result))"
   ]
  },
  {
   "cell_type": "code",
   "execution_count": 5,
   "id": "9976a3b5-c52f-48ba-aa9c-c05ffc6c5eca",
   "metadata": {},
   "outputs": [
    {
     "name": "stdout",
     "output_type": "stream",
     "text": [
      "List of keywords are: ['key', 'keys', 'keyword', 'keychain', 'keynote']\n",
      "Given list: ['home/key/1.pdf', 'home/keys/2.pdf', 'home/keyword/3.pdf', 'home/keychain/4.pdf', 'home/Desktop/5.pdf', 'home/keynote/6.pdf']\n",
      "filtered list is : ['home/Desktop/5.pdf']\n"
     ]
    }
   ],
   "source": [
    "#3.Create a Python program that uses the `filter()` function to select names that start with a specific letter from a list of strings\n",
    "\n",
    "# Python code to filter element from list \n",
    "# based on another list of string. \n",
    "\n",
    "# List Initialization \n",
    "Input = ['key', 'keys', 'keyword', 'keychain', 'keynote'] \n",
    "Input_string = ['home/key/1.pdf', \n",
    "\t\t'home/keys/2.pdf', \n",
    "\t\t'home/keyword/3.pdf', \n",
    "\t\t'home/keychain/4.pdf', \n",
    "\t\t'home/Desktop/5.pdf', \n",
    "\t\t'home/keynote/6.pdf'] \n",
    "\n",
    "# Using list comprehension \n",
    "Output = [b for b in Input_string if\n",
    "\t\tall(a not in b for a in Input)] \n",
    "\n",
    "# Printing \n",
    "print(\"List of keywords are:\", Input) \n",
    "print(\"Given list:\", Input_string) \n",
    "print(\"filtered list is :\", Output) \n"
   ]
  },
  {
   "cell_type": "code",
   "execution_count": 1,
   "id": "6fb82994-66b1-4bbd-a0d5-ebfaddd8b25f",
   "metadata": {},
   "outputs": [
    {
     "name": "stdout",
     "output_type": "stream",
     "text": [
      "[2, 4]\n"
     ]
    }
   ],
   "source": [
    "#4.Write a Python program that uses the `filter()` function to select prime numbers from a list of integers.\n",
    "lis1 = [1, 2, 3, 4, 5]\n",
    " \n",
    " \n",
    "def is_even(x): return x % 2 == 0\n",
    " \n",
    " \n",
    "# using filter\n",
    "lis2 = list(filter(is_even, lis1))\n",
    " \n",
    "# Printing output\n",
    "print(lis2)\n"
   ]
  },
  {
   "cell_type": "code",
   "execution_count": 2,
   "id": "b64796ee-bd49-419b-a80c-b3c5d2b3e69b",
   "metadata": {},
   "outputs": [
    {
     "name": "stdout",
     "output_type": "stream",
     "text": [
      "The original list is : [1, None, 4, None, None, 5, 8, None, False]\n",
      "List after removal of None values : [1, 4, 5, 8, False]\n"
     ]
    }
   ],
   "source": [
    "#5.How can you use the `filter()` function to remove None values from a list in Python?\n",
    "\n",
    "test_list = [1, None, 4, None, None, 5, 8, None, False]\n",
    " \n",
    "# printing original list\n",
    "print (\"The original list is : \" + str(test_list))\n",
    " \n",
    "# using filter()\n",
    "# to remove None values in list\n",
    "res = list(filter(lambda item: item is not None, test_list))\n",
    " \n",
    "# printing result\n",
    "print (\"List after removal of None values : \" + str(res))\n"
   ]
  },
  {
   "cell_type": "code",
   "execution_count": 3,
   "id": "f3bdafe3-dc45-417d-89df-5934cf08e9ec",
   "metadata": {},
   "outputs": [],
   "source": [
    "#6.Create a Python program that uses `filter()` to select words longer than a certain length from a list of strings.\n",
    "\n",
    "def filterlongword(string,number):\n",
    "    return filter(lambda word:len(word)>number, string)\n",
    "    # or: return [w for w in string if len(w) > number]"
   ]
  },
  {
   "cell_type": "code",
   "execution_count": 8,
   "id": "b1e6d834-b6fa-44c4-97ed-a72e50bec993",
   "metadata": {},
   "outputs": [
    {
     "name": "stdout",
     "output_type": "stream",
     "text": [
      "18\n",
      "24\n",
      "32\n"
     ]
    }
   ],
   "source": [
    "#7.Write a Python program that uses the `filter()` function to select elements greater than a specified threshold from a list of values.\n",
    "\n",
    "ages = [5, 12, 17, 18, 24, 32]\n",
    "\n",
    "def myFunc(x):\n",
    "  if x < 18:\n",
    "    return False\n",
    "  else:\n",
    "    return True\n",
    "\n",
    "adults = filter(myFunc, ages)\n",
    "\n",
    "for x in adults:\n",
    "  print(x)"
   ]
  },
  {
   "cell_type": "code",
   "execution_count": 9,
   "id": "76553989-a632-4325-bf0d-3fb81b1b9546",
   "metadata": {},
   "outputs": [],
   "source": [
    "# RECURSION"
   ]
  },
  {
   "cell_type": "code",
   "execution_count": 10,
   "id": "1b8931b7-5361-4bbe-9f99-e026af6641cb",
   "metadata": {},
   "outputs": [
    {
     "name": "stdout",
     "output_type": "stream",
     "text": [
      "Factorial of 5 using Recursion is: 120\n",
      "Factorial of 5 using Iteration is: 120\n"
     ]
    }
   ],
   "source": [
    "#1Explain the concept of recursion in Python. How does it differ from iteration?\n",
    "'''A program is called recursive when an entity calls itself. A program is called iterative when there is a loop (or repetition).'''\n",
    "\n",
    "\n",
    "# Python3 program to find factorial of given number\n",
    " \n",
    "# ----- Recursion -----\n",
    "# method to find factorial of given number\n",
    "def factorialUsingRecursion(n):\n",
    "    if (n == 0):\n",
    "        return 1;\n",
    " \n",
    "    # recursion call\n",
    "    return n * factorialUsingRecursion(n - 1);\n",
    " \n",
    "# ----- Iteration -----\n",
    "# Method to find the factorial of a given number\n",
    "def factorialUsingIteration(n):\n",
    "    res = 1;\n",
    " \n",
    "    # using iteration\n",
    "    for i in range(2, n + 1):\n",
    "        res *= i;\n",
    " \n",
    "    return res;\n",
    " \n",
    "# Driver method\n",
    "num = 5;\n",
    "print(\"Factorial of\",num,\"using Recursion is:\",\n",
    "                    factorialUsingRecursion(5));\n",
    " \n",
    "print(\"Factorial of\",num,\"using Iteration is:\",\n",
    "                    factorialUsingIteration(5));\n",
    "     \n",
    "# This code is contributed by mits"
   ]
  },
  {
   "cell_type": "code",
   "execution_count": 11,
   "id": "00f86650-9f59-48bc-9c89-1e0a615ced8a",
   "metadata": {},
   "outputs": [
    {
     "name": "stdout",
     "output_type": "stream",
     "text": [
      "The factorial of 7 is 5040\n"
     ]
    }
   ],
   "source": [
    "#2.Write a Python program to calculate the factorial of a number using recursion.\n",
    "# Factorial of a number using recursion\n",
    "\n",
    "def recur_factorial(n):\n",
    "   if n == 1:\n",
    "       return n\n",
    "   else:\n",
    "       return n*recur_factorial(n-1)\n",
    "\n",
    "num = 7\n",
    "\n",
    "# check if the number is negative\n",
    "if num < 0:\n",
    "   print(\"Sorry, factorial does not exist for negative numbers\")\n",
    "elif num == 0:\n",
    "   print(\"The factorial of 0 is 1\")\n",
    "else:\n",
    "   print(\"The factorial of\", num, \"is\", recur_factorial(num))\n"
   ]
  },
  {
   "cell_type": "code",
   "execution_count": 12,
   "id": "ee4b37fe-90ff-43ea-82ad-486d90d75048",
   "metadata": {},
   "outputs": [
    {
     "name": "stdout",
     "output_type": "stream",
     "text": [
      "Fibonacci sequence:\n",
      "0\n",
      "1\n",
      "1\n",
      "2\n",
      "3\n",
      "5\n",
      "8\n",
      "13\n",
      "21\n",
      "34\n"
     ]
    }
   ],
   "source": [
    "#3.Create a recursive Python function to find the nth Fibonacci number.\n",
    "\n",
    "# Python program to display the Fibonacci sequence\n",
    "\n",
    "def recur_fibo(n):\n",
    "   if n <= 1:\n",
    "       return n\n",
    "   else:\n",
    "       return(recur_fibo(n-1) + recur_fibo(n-2))\n",
    "\n",
    "nterms = 10\n",
    "\n",
    "# check if the number of terms is valid\n",
    "if nterms <= 0:\n",
    "   print(\"Plese enter a positive integer\")\n",
    "else:\n",
    "   print(\"Fibonacci sequence:\")\n",
    "   for i in range(nterms):\n",
    "       print(recur_fibo(i))\n"
   ]
  },
  {
   "cell_type": "code",
   "execution_count": 13,
   "id": "2b1c1b60-0677-4a52-af84-e46481e41df1",
   "metadata": {},
   "outputs": [
    {
     "name": "stdout",
     "output_type": "stream",
     "text": [
      "The sum is 136\n"
     ]
    }
   ],
   "source": [
    "#4.# Python program to find the sum of natural using recursive function\n",
    "\n",
    "def recur_sum(n):\n",
    "   if n <= 1:\n",
    "       return n\n",
    "   else:\n",
    "       return n + recur_sum(n-1)\n",
    "\n",
    "# change this value for a different result\n",
    "num = 16\n",
    "\n",
    "if num < 0:\n",
    "   print(\"Enter a positive number\")\n",
    "else:\n",
    "   print(\"The sum is\",recur_sum(num))\n"
   ]
  },
  {
   "cell_type": "code",
   "execution_count": 14,
   "id": "7eae2215-1ed2-4745-9e2f-f5ce5e4f86cc",
   "metadata": {},
   "outputs": [
    {
     "data": {
      "text/plain": [
       "'The thing about recursion is that you can never guarantee that it will never overflow the stack, unless you can put some bounds on both the (minimum) size of memory and (maximum) size of the input. What you can do, however, is guarantee that it will overflow the stack if you have an infinite loop...'"
      ]
     },
     "execution_count": 14,
     "metadata": {},
     "output_type": "execute_result"
    }
   ],
   "source": [
    "#5.How can you prevent a recursive function from running indefinitely, causing a stack overflow error?\n",
    "\"\"\"The thing about recursion is that you can never guarantee that it will never overflow the stack, unless you can put some bounds on both the (minimum) size of memory and (maximum) size of the input. What you can do, however, is guarantee that it will overflow the stack if you have an infinite loop...\"\"\""
   ]
  },
  {
   "cell_type": "code",
   "execution_count": 15,
   "id": "bbcaf53b-b7e0-43de-b69c-7eed2cba6081",
   "metadata": {},
   "outputs": [
    {
     "name": "stdin",
     "output_type": "stream",
     "text": [
      "Enter first number: 1\n",
      "Enter second number: 5\n"
     ]
    },
    {
     "name": "stdout",
     "output_type": "stream",
     "text": [
      "GCD is: \n",
      "1\n"
     ]
    }
   ],
   "source": [
    "#6.Create a recursive Python function to find the greatest common divisor (GCD) of two numbers using the Euclidean algorithm.\n",
    "\n",
    "def gcd(a,b):\n",
    "    if(b==0):\n",
    "        return a\n",
    "    else:\n",
    "        return gcd(b,a%b)\n",
    "a=int(input(\"Enter first number:\"))\n",
    "b=int(input(\"Enter second number:\"))\n",
    "GCD=gcd(a,b)\n",
    "print(\"GCD is: \")\n",
    "print(GCD)"
   ]
  },
  {
   "cell_type": "code",
   "execution_count": 17,
   "id": "848b7cae-1d86-4d2d-a180-9e11c5998328",
   "metadata": {},
   "outputs": [
    {
     "name": "stdin",
     "output_type": "stream",
     "text": [
      "Enter the string that needs to be reversed :  subhajit\n"
     ]
    },
    {
     "name": "stdout",
     "output_type": "stream",
     "text": [
      "The string is :\n",
      "subhajit\n",
      "The reversed string is :\n",
      "tijahbus\n"
     ]
    }
   ],
   "source": [
    "#7.Write a recursive Python function to reverse a string\n",
    "def reverse_string(my_string):\n",
    "   if len(my_string) == 0:\n",
    "      return my_string\n",
    "   else:\n",
    "      return reverse_string(my_string[1:]) + my_string[0]\n",
    "my_str = str(input(\"Enter the string that needs to be reversed : \"))\n",
    "print(\"The string is :\")\n",
    "print(my_str)\n",
    "print(\"The reversed string is :\")\n",
    "print(reverse_string(my_str))"
   ]
  },
  {
   "cell_type": "code",
   "execution_count": 18,
   "id": "194618af-4348-491f-a191-6c2103597914",
   "metadata": {},
   "outputs": [
    {
     "name": "stdout",
     "output_type": "stream",
     "text": [
      "25\n"
     ]
    }
   ],
   "source": [
    "#8.Create a recursive Python function to calculate the power of a number (x^n).\n",
    "def power(N, P):\n",
    " \n",
    "    # If power is 0 then return 1\n",
    "    # if condition is true\n",
    "    # only then it will enter it,\n",
    "    # otherwise not\n",
    "    if P == 0:\n",
    "        return 1\n",
    " \n",
    "    # Recurrence relation\n",
    "    return (N*power(N, P-1))\n",
    " \n",
    " \n",
    "# Driver code\n",
    "if __name__ == '__main__':\n",
    "    N = 5\n",
    "    P = 2\n",
    " \n",
    "    print(power(N, P))\n"
   ]
  },
  {
   "cell_type": "code",
   "execution_count": 19,
   "id": "aace76ef-7711-472d-9980-51a5ec9b6dd7",
   "metadata": {},
   "outputs": [
    {
     "name": "stdout",
     "output_type": "stream",
     "text": [
      "Initial string abc\n",
      "Resultant permutations ['abc', 'acb', 'bac', 'bca', 'cba', 'cab']\n"
     ]
    }
   ],
   "source": [
    "#9.Write a recursive Python function to find all permutations of a given string.\n",
    "\n",
    "\n",
    "# Python code to demonstrate \n",
    "# to find all permutation of\n",
    "# a given string\n",
    " \n",
    "# Initialising string\n",
    "ini_str = \"abc\"\n",
    " \n",
    "# Printing initial string\n",
    "print(\"Initial string\", ini_str)\n",
    " \n",
    "# Finding all permutation\n",
    "result = []\n",
    " \n",
    "def permute(data, i, length): \n",
    "    if i == length: \n",
    "        result.append(''.join(data) )\n",
    "    else: \n",
    "        for j in range(i, length): \n",
    "            # swap\n",
    "            data[i], data[j] = data[j], data[i] \n",
    "            permute(data, i + 1, length) \n",
    "            data[i], data[j] = data[j], data[i]  \n",
    "permute(list(ini_str), 0, len(ini_str))\n",
    " \n",
    "# Printing result\n",
    "print(\"Resultant permutations\", str(result))"
   ]
  },
  {
   "cell_type": "code",
   "execution_count": 20,
   "id": "651dd97f-af3d-438b-8c65-577c67356126",
   "metadata": {},
   "outputs": [
    {
     "name": "stdout",
     "output_type": "stream",
     "text": [
      "Yes\n"
     ]
    }
   ],
   "source": [
    "#10.Write a recursive Python function to check if a string is a palindrome.\n",
    "\n",
    "def isPalindrome(s, i):\n",
    "    if(i > len(s)/2):\n",
    "       return True\n",
    "    ans = False\n",
    "    if((s[i] is s[len(s) - i - 1]) and isPalindrome(s, i + 1)):\n",
    "      ans = True\n",
    "    return ans\n",
    " \n",
    "str = \"geeg\"\n",
    "if (isPalindrome(str, 0)):\n",
    "    print(\"Yes\")\n",
    "else:\n",
    "    print(\"No\")\n"
   ]
  },
  {
   "cell_type": "code",
   "execution_count": 21,
   "id": "5027c857-6495-442f-9123-6ad936707c8c",
   "metadata": {},
   "outputs": [
    {
     "name": "stdout",
     "output_type": "stream",
     "text": [
      "[]\n"
     ]
    }
   ],
   "source": [
    "#11.Create a recursive Python function to generate all possible combinations of a list of elements.\n",
    "def combination(l):\n",
    "    result = []\n",
    "    for item in range(len(l)):\n",
    "        cut_list = l[:item] + l[item + 1:]\n",
    "        if len(cut_list) > 1:\n",
    "            combination(cut_list)\n",
    "        elif len(cut_list) == 1:\n",
    "            result += cut_list\n",
    "    return result\n",
    "\n",
    "\n",
    "print(combination([1, 2, 3]))\n"
   ]
  },
  {
   "cell_type": "code",
   "execution_count": 22,
   "id": "aeada4bf-1417-4752-9124-da3c5d450afa",
   "metadata": {},
   "outputs": [],
   "source": [
    "## BASIC OF FUNCTION"
   ]
  },
  {
   "cell_type": "code",
   "execution_count": 25,
   "id": "bc30881e-d1da-4405-8cac-4cb528e5ce06",
   "metadata": {},
   "outputs": [],
   "source": [
    "#1\n",
    "\n",
    "###Python Functions is a block of statements that return the specific task. The idea is to put some commonly or repeatedly done tasks together and make a function so that instead of writing the same code again and again for different inputs, we can do the function calls to reuse code contained in it over and over again."
   ]
  },
  {
   "cell_type": "code",
   "execution_count": 26,
   "id": "42dd3525-ff2d-43dc-88c1-61b8d870e2a7",
   "metadata": {},
   "outputs": [
    {
     "name": "stdout",
     "output_type": "stream",
     "text": [
      "Hello from a function\n"
     ]
    }
   ],
   "source": [
    "#2.How do you define a function in Python? Provide an example.\n",
    "\"\"\"Functions are convenient when you need to regularly accomplish the same task. After defining a function, you simply call it instead of typing or copy-pasting the same code snippet over and over again. Moreover, if you decide to change a block of code, you only need to change it where you define the function. This change will be applied anywhere the function is called.\n",
    "By defining and using functions, you can break complex programs into smaller steps. Each step can be a separate function solving a specific task.\n",
    "Finally, with user-defined functions, your code is usually easier to follow. You can clearly see which task is accomplished with each code block. This is especially true when functions are defined following the best practices discussed later.\"\"\"\n",
    "\n",
    "def my_function():\n",
    "  print(\"Hello from a function\")\n",
    "\n",
    "my_function()\n"
   ]
  },
  {
   "cell_type": "code",
   "execution_count": 27,
   "id": "1f5fa05e-bb25-444c-b3f6-c89d02dc3e55",
   "metadata": {},
   "outputs": [],
   "source": [
    "#3.Explain the difference between a function definition and a function call.\n",
    "\n",
    "###A function is a block of code that does a particular operation and returns a result. It usually accepts inputs as parameters and returns a result. The parameters are not mandatory. A function call is the code used to pass control to a function. Now b will have the value 11. Hope this clarifies."
   ]
  },
  {
   "cell_type": "code",
   "execution_count": 28,
   "id": "4e6329eb-655e-482c-babd-ba5970228537",
   "metadata": {},
   "outputs": [
    {
     "name": "stdout",
     "output_type": "stream",
     "text": [
      "4.5\n",
      "14.5\n"
     ]
    }
   ],
   "source": [
    "#4.Write a Python program that defines a function to calculate the sum of two numbers and then calls the function.\n",
    "\n",
    "numbers = [2.5, 3, 4, -5]\n",
    "\n",
    "# start parameter is not provided\n",
    "numbers_sum = sum(numbers)\n",
    "print(numbers_sum)\n",
    "\n",
    "# start = 10\n",
    "numbers_sum = sum(numbers, 10)\n",
    "print(numbers_sum)"
   ]
  },
  {
   "cell_type": "code",
   "execution_count": 29,
   "id": "136674c1-3b6a-4a29-999b-79d7994b4bb5",
   "metadata": {},
   "outputs": [],
   "source": [
    "#5.What is a function signature, and what information does it typically include?\n",
    "\n",
    "###A function signature is its declaration, parameters, and return type. When you call it is an instance of that function. Reminder: Answers generated by Artificial Intelligence tools are not allowed on Stack Overflow"
   ]
  },
  {
   "cell_type": "code",
   "execution_count": 30,
   "id": "e3d946cf-2165-418d-89cb-ba43e89e96dd",
   "metadata": {},
   "outputs": [
    {
     "name": "stdout",
     "output_type": "stream",
     "text": [
      "First Name: Eric\n",
      "Last Name: Cartman\n"
     ]
    }
   ],
   "source": [
    "#6.Create a Python function that takes two arguments and returns their product.\n",
    "\n",
    "def display_info(first_name, last_name):\n",
    "    print('First Name:', first_name)\n",
    "    print('Last Name:', last_name)\n",
    "\n",
    "display_info(last_name = 'Cartman', first_name = 'Eric')"
   ]
  },
  {
   "cell_type": "code",
   "execution_count": 31,
   "id": "01f6d27c-9bcd-48b3-bc5c-436f7161514a",
   "metadata": {},
   "outputs": [],
   "source": [
    "##Function Parameters and Arguments:\n"
   ]
  },
  {
   "cell_type": "code",
   "execution_count": 1,
   "id": "164fceaa-393d-498a-857c-e0b875f187b3",
   "metadata": {},
   "outputs": [],
   "source": [
    "#1.Explain the concepts of formal parameters and actual arguments in Python functions\n",
    "\n",
    "##In Python, a parameter is a variable that is defined in the function definition. It is a way to pass information to a function. There are two types of parameters: formal parameters and actual parameters.\n",
    "\n",
    "#Formal parameters are the parameters that are specified during the definition of the function. They are also known as input parameters. For example, consider the following code:\n",
    "def sum(a, b):\n",
    "    return a + b\n",
    "\n"
   ]
  },
  {
   "cell_type": "code",
   "execution_count": 2,
   "id": "9898730d-b0e8-4450-bc65-d0820d21376f",
   "metadata": {},
   "outputs": [
    {
     "name": "stdout",
     "output_type": "stream",
     "text": [
      "Hello, there!\n",
      "Hello, John!\n"
     ]
    }
   ],
   "source": [
    "#2.Write a Python program that defines a function with default argument values.\n",
    "\n",
    "def greet(name='there'):\n",
    "    print(f'Hello, {name}!')\n",
    "\n",
    "greet() # Output: Hello, there!\n",
    "greet('John') # Output: Hello, John!\n"
   ]
  },
  {
   "cell_type": "code",
   "execution_count": 3,
   "id": "c4294ee5-17d8-4f2e-9d4a-ecb9bb4f07ba",
   "metadata": {},
   "outputs": [
    {
     "name": "stdout",
     "output_type": "stream",
     "text": [
      "Good morning, John!\n"
     ]
    }
   ],
   "source": [
    "#3.How do you use keyword arguments in Python function calls? Provide an example.\n",
    "\n",
    "##In Python, keyword arguments are used to pass arguments to a function by explicitly specifying the parameter name and its corresponding value. This allows for more flexibility and readability in function calls. Here’s an example:\n",
    "\n",
    "def greet(name, message):\n",
    "    print(f\"{message}, {name}!\")\n",
    "\n",
    "greet(name=\"John\", message=\"Good morning\")\n"
   ]
  },
  {
   "cell_type": "code",
   "execution_count": 4,
   "id": "c41252bf-9de0-4509-80bf-2f4e41fde9fc",
   "metadata": {},
   "outputs": [],
   "source": [
    "#4.Create a Python function that accepts a variable number of arguments and calculates their sum.\n",
    "def sum_all(*args):\n",
    "    return sum(args)\n",
    "\n"
   ]
  },
  {
   "cell_type": "code",
   "execution_count": 5,
   "id": "b0ff4e89-5b92-46e1-b96c-f74653de58d5",
   "metadata": {},
   "outputs": [],
   "source": [
    "#5.What is the purpose of the `*args` and `**kwargs` syntax in function parameter lists?\n",
    "\n",
    "\"\"\"In Python, *args and **kwargs are special syntax used in function parameter lists. They allow a function to accept a variable number of arguments.\"\"\"\n",
    "def my_function(*args, **kwargs):\n",
    "    print(\"Non-keyword arguments:\")\n",
    "    for arg in args:\n",
    "        print(arg)\n",
    "    print(\"\\nKeyword arguments:\")\n",
    "    for key, value in kwargs.items():\n",
    "        print(f\"{key} = {value}\")\n"
   ]
  },
  {
   "cell_type": "code",
   "execution_count": 6,
   "id": "ca84d3a6-b8ab-43c9-b962-0083722f459e",
   "metadata": {},
   "outputs": [],
   "source": [
    "##Return Values and Scoping:\n"
   ]
  },
  {
   "cell_type": "code",
   "execution_count": 7,
   "id": "16bc5323-5f6b-409e-9e85-117e73335acf",
   "metadata": {},
   "outputs": [],
   "source": [
    "#1.Describe the role of the `return` statement in Python functions and provide examples.\n",
    "\n",
    "\"\"\"In Python, the return statement is used to exit a function and return a value to the caller. When a return statement is executed, the function terminates immediately, and the value specified in the return statement is passed back to the caller.\"\"\"\n",
    "def get_name_and_age():\n",
    "    name = \"John\"\n",
    "    age = 30\n",
    "    return name, age\n"
   ]
  },
  {
   "cell_type": "code",
   "execution_count": null,
   "id": "a0002d53-bb84-4150-85a5-1c49de8aa942",
   "metadata": {},
   "outputs": [],
   "source": [
    "#2.Explain the concept of variable scope in Python, including local and global variables.\n",
    "\"\"\"In Python, the scope of a variable refers to the region of the code where the variable can be accessed. The scope of a variable is determined by where it is defined in the code. There are two types of variables in Python: local and global.\n",
    "\n",
    "A local variable is defined inside a function and can only be accessed within that function. It is created when the function is called and destroyed when the function returns. If you try to access a local variable outside of its function, you will get a NameError.\n",
    "\n",
    "A global variable is defined outside of any function and can be accessed from anywhere in the code. It is created when the program starts and destroyed when the program ends. If you try to modify a global variable inside a function, you need to use the global keyword to indicate that you want to modify the global variable instead of creating a new local variable with the same name.\"\"\"\n",
    "\n",
    "x = 10  # global variable\n",
    "\n",
    "def foo():\n",
    "    y = 5  # local variable\n",
    "    print(x)  # prints 10\n",
    "    print(y)  # prints 5\n",
    "\n",
    "foo()\n",
    "print(x)  # prints 10\n",
    "print(y)  # NameError: name 'y' is not defined\n"
   ]
  },
  {
   "cell_type": "code",
   "execution_count": 9,
   "id": "84d5b6b5-3c0c-477e-b00f-4abec64deef2",
   "metadata": {},
   "outputs": [
    {
     "name": "stdout",
     "output_type": "stream",
     "text": [
      "The value of x is 10\n",
      "The value of x is changed to 20\n",
      "The value of x is 20\n"
     ]
    }
   ],
   "source": [
    "#3.Write a Python program that demonstrates the use of global variables within functions.\n",
    "\n",
    "# Declare a global variable\n",
    "x = 10\n",
    "\n",
    "# Define a function that uses the global variable\n",
    "def print_x():\n",
    "    # Use the global keyword to access the global variable\n",
    "    global x\n",
    "    print(\"The value of x is\", x)\n",
    "\n",
    "# Define another function that modifies the global variable\n",
    "def change_x(new_x):\n",
    "    # Use the global keyword to access the global variable\n",
    "    global x\n",
    "    x = new_x\n",
    "    print(\"The value of x is changed to\", x)\n",
    "\n",
    "# Call the functions\n",
    "print_x() # This will print 10\n",
    "change_x(20) # This will print 20\n",
    "print_x() # This will print 20\n"
   ]
  },
  {
   "cell_type": "code",
   "execution_count": 10,
   "id": "2a648f5d-b707-4829-b49a-593b10b747ba",
   "metadata": {},
   "outputs": [],
   "source": [
    "#4.Create a Python function that calculates the factorial of a number and returns it.\n",
    "\n",
    "def factorial(n):\n",
    "    # check if n is a positive integer\n",
    "    if not isinstance(n, int) or n < 0:\n",
    "        return None\n",
    "    # base case: 0! = 1\n",
    "    if n == 0:\n",
    "        return 1\n",
    "    # recursive case: n! = n * (n-1)!\n",
    "    return n * factorial(n-1)\n"
   ]
  },
  {
   "cell_type": "code",
   "execution_count": 11,
   "id": "3a068a96-79bf-4443-b049-a9d9bb4d57fa",
   "metadata": {},
   "outputs": [
    {
     "data": {
      "text/plain": [
       "120"
      ]
     },
     "execution_count": 11,
     "metadata": {},
     "output_type": "execute_result"
    }
   ],
   "source": [
    "factorial(5)\n"
   ]
  },
  {
   "cell_type": "code",
   "execution_count": 13,
   "id": "18e4e5b7-884b-4037-ae7d-c297c045eef1",
   "metadata": {},
   "outputs": [
    {
     "name": "stdout",
     "output_type": "stream",
     "text": [
      "10\n",
      "20\n",
      "20\n"
     ]
    }
   ],
   "source": [
    "#5.How can you access variables defined outside a function from within the function?\n",
    "x = 10 # module-level variable\n",
    "def foo():\n",
    "  print(x) # prints 10\n",
    "foo()\n",
    "\n",
    "def bar():\n",
    "  global x # declare x as global\n",
    "  x = 20 # modify x\n",
    "  print(x) # prints 20\n",
    "bar()\n",
    "print(x) # prints 20\n",
    "\n"
   ]
  },
  {
   "cell_type": "code",
   "execution_count": 14,
   "id": "7d55147a-d176-4cd4-aed0-fa313ec1418f",
   "metadata": {},
   "outputs": [],
   "source": [
    "## Lambda Functions and Higher-Order Functions:\n"
   ]
  },
  {
   "cell_type": "code",
   "execution_count": 16,
   "id": "514e348a-8d7e-40ea-ad4b-2e782afb53c1",
   "metadata": {},
   "outputs": [
    {
     "name": "stdout",
     "output_type": "stream",
     "text": [
      "[1, 4, 9, 16, 25]\n"
     ]
    }
   ],
   "source": [
    "#1.What are lambda functions in Python, and when are they typically used?\n",
    "# Define a list of numbers\n",
    "numbers = [1, 2, 3, 4, 5]\n",
    "\n",
    "# Use a lambda function to square each element\n",
    "squared = list(map(lambda x: x**2, numbers))\n",
    "\n",
    "# Print the result\n",
    "print(squared)\n"
   ]
  },
  {
   "cell_type": "code",
   "execution_count": 17,
   "id": "3866b336-29dd-4977-a09e-b98c5bfd31d4",
   "metadata": {},
   "outputs": [
    {
     "name": "stdout",
     "output_type": "stream",
     "text": [
      "[(2, 1), (4, 2), (1, 3), (5, 4), (3, 5)]\n"
     ]
    }
   ],
   "source": [
    "#2.Write a Python program that uses lambda functions to sort a list of tuples based on the second element.\n",
    "\n",
    "# Define a list of tuples\n",
    "tuples = [(1, 3), (4, 2), (5, 4), (2, 1), (3, 5)]\n",
    "\n",
    "# Sort the list using a lambda function as the key\n",
    "# The lambda function takes a tuple as an argument and returns its second element\n",
    "sorted_tuples = sorted(tuples, key=lambda x: x[1])\n",
    "\n",
    "# Print the sorted list\n",
    "print(sorted_tuples)\n",
    "\n"
   ]
  },
  {
   "cell_type": "code",
   "execution_count": 18,
   "id": "bd4ca93c-5c30-4482-8f02-4775fae09868",
   "metadata": {},
   "outputs": [
    {
     "name": "stdout",
     "output_type": "stream",
     "text": [
      "[2, 4, 6, 8, 10]\n"
     ]
    }
   ],
   "source": [
    "#3.Explain the concept of higher-order functions in Python, and provide an example.\n",
    "\"\"\"A higher-order function is a function that can either take another function as an argument, or return another function as a result, or both. Higher-order functions are useful for creating abstractions, reusing code, and manipulating functions as first-class objects.\n",
    "\n",
    "For example, the built-in function map is a higher-order function that takes a function and an iterable as arguments, and returns an iterator that applies the function to each element of the iterable. Here is a simple example of using map to double each element of a list:\"\"\"\n",
    "\n",
    "def double(x):\n",
    "    return x * 2\n",
    "\n",
    "numbers = [1, 2, 3, 4, 5]\n",
    "doubled = map(double, numbers)\n",
    "print(list(doubled)) # [2, 4, 6, 8, 10]\n"
   ]
  },
  {
   "cell_type": "code",
   "execution_count": 19,
   "id": "ee4cb6d6-b55f-4fc0-a7ed-688086b4470b",
   "metadata": {},
   "outputs": [],
   "source": [
    "#4.Create a Python function that takes a list of numbers and a function as arguments, applying the function to each element in the list.\n",
    "\n",
    "\n",
    "def apply_function_to_list(numbers, function):\n",
    "    # This function takes a list of numbers and a function as arguments\n",
    "    # It applies the function to each element in the list and returns a new list\n",
    "    # Example: apply_function_to_list([1, 2, 3], lambda x: x * 2) -> [2, 4, 6]\n",
    "\n",
    "    # Initialize an empty list to store the results\n",
    "    results = []\n",
    "\n",
    "    # Loop through each element in the numbers list\n",
    "    for number in numbers:\n",
    "        # Apply the function to the element and append the result to the results list\n",
    "        result = function(number)\n",
    "        results.append(result)\n",
    "\n",
    "    # Return the results list\n",
    "    return results\n"
   ]
  },
  {
   "cell_type": "code",
   "execution_count": 20,
   "id": "a70d0a63-2cec-47f9-accb-a2fa88232512",
   "metadata": {},
   "outputs": [],
   "source": [
    "## Built-in Functions:\n"
   ]
  },
  {
   "cell_type": "code",
   "execution_count": 21,
   "id": "8bbc784f-0c52-445b-bf78-dc34edf89620",
   "metadata": {},
   "outputs": [
    {
     "data": {
      "text/plain": [
       "\"The built-in functions len(), max(), and min() are some of the most commonly used functions in Python. They are part of the standard library and can be applied to various types of objects, such as strings, lists, tuples, dictionaries, and sets. Here is a brief description of their roles:\\n\\nlen() returns the number of items in an object. For example, len('Hello') returns 5, and len([1, 2, 3]) returns 3. This function can be useful for looping through an object or checking its size.\\nmax() returns the largest item in an object. For example, max('Hello') returns ‘o’, and max([1, 2, 3]) returns 3. This function can be useful for finding the maximum value or the most frequent item in an object.\\nmin() returns the smallest item in an object. For example, min('Hello') returns ‘H’, and min([1, 2, 3]) returns 1. This function can be useful for finding the minimum value or the least frequent item in an object.\\nIf you want to learn more about these functions, you can check out the [official documentation] or this [tutorial]. I hope this helps you understand the role of these built-in functions in Python. \""
      ]
     },
     "execution_count": 21,
     "metadata": {},
     "output_type": "execute_result"
    }
   ],
   "source": [
    "#1.Describe the role of built-in functions like `len()`, `max()`, and `min()` in Python.\n",
    "\n",
    "\"\"\"The built-in functions len(), max(), and min() are some of the most commonly used functions in Python. They are part of the standard library and can be applied to various types of objects, such as strings, lists, tuples, dictionaries, and sets. Here is a brief description of their roles:\n",
    "\n",
    "len() returns the number of items in an object. For example, len('Hello') returns 5, and len([1, 2, 3]) returns 3. This function can be useful for looping through an object or checking its size.\n",
    "max() returns the largest item in an object. For example, max('Hello') returns ‘o’, and max([1, 2, 3]) returns 3. This function can be useful for finding the maximum value or the most frequent item in an object.\n",
    "min() returns the smallest item in an object. For example, min('Hello') returns ‘H’, and min([1, 2, 3]) returns 1. This function can be useful for finding the minimum value or the least frequent item in an object.\n",
    "If you want to learn more about these functions, you can check out the [official documentation] or this [tutorial]. I hope this helps you understand the role of these built-in functions in Python. \"\"\""
   ]
  },
  {
   "cell_type": "code",
   "execution_count": 22,
   "id": "12841807-cca7-4946-b10e-81b2f42a38f4",
   "metadata": {},
   "outputs": [
    {
     "name": "stdout",
     "output_type": "stream",
     "text": [
      "[2, 4, 6, 8, 10]\n"
     ]
    }
   ],
   "source": [
    "#2.Write a Python program that uses the `map()` function to apply a function to each element of a list.\n",
    "\n",
    "# Define a function that doubles a number\n",
    "def double(x):\n",
    "    return x * 2\n",
    "\n",
    "# Define a list of numbers\n",
    "numbers = [1, 2, 3, 4, 5]\n",
    "\n",
    "# Use the map() function to apply the double function to each element of the list\n",
    "doubled_numbers = list(map(double, numbers))\n",
    "\n",
    "# Print the result\n",
    "print(doubled_numbers)\n",
    "\n"
   ]
  },
  {
   "cell_type": "code",
   "execution_count": 25,
   "id": "9f842b34-00ac-4028-b78b-d4af4119e3ef",
   "metadata": {},
   "outputs": [
    {
     "name": "stdout",
     "output_type": "stream",
     "text": [
      "[2, 4, 6, 8, 10]\n"
     ]
    }
   ],
   "source": [
    "#3.How does the `filter()` function work in Python, and when would you use it?\n",
    "\n",
    "###You can use the filter() function when you want to apply a filtering function to an iterable and produce a new iterable with the items that satisfy the condition at hand. For example, you can use the filter() function to filter out the odd numbers from a list of numbers, or to filter out the vowels from a string of characters, or to filter out the words that start with a certain letter from a list of words.\"\"\"\"\n",
    "\n",
    "numbers = [1, 2, 3, 4, 5, 6, 7, 8, 9, 10]\n",
    "even_numbers = filter(lambda x: x % 2 == 0, numbers) # use a lambda function to test the condition\n",
    "print(list(even_numbers)) # convert the iterator to a list\n",
    "# Output: [2, 4, 6, 8, 10]\n"
   ]
  },
  {
   "cell_type": "code",
   "execution_count": 26,
   "id": "d694fab7-5129-4e9c-91ce-44442778e49b",
   "metadata": {},
   "outputs": [
    {
     "name": "stdout",
     "output_type": "stream",
     "text": [
      "15\n"
     ]
    }
   ],
   "source": [
    "#4.Create a Python program that uses the `reduce()` function to find the product of all elements in a list.\n",
    "from functools import reduce # import the reduce function\n",
    "lst = [1, 2, 3, 4, 5] # a list of numbers\n",
    "sum = reduce(lambda x, y: x + y, lst) # apply the reduce function with the lambda function\n",
    "print(sum) # print the result\n"
   ]
  },
  {
   "cell_type": "code",
   "execution_count": 27,
   "id": "e84cfb32-6030-4972-94ad-0914fd5ea7bc",
   "metadata": {},
   "outputs": [],
   "source": [
    "###Function Documentation and Best Practices:"
   ]
  },
  {
   "cell_type": "code",
   "execution_count": 28,
   "id": "b6852bac-414d-4c07-8e7f-49f510f224db",
   "metadata": {},
   "outputs": [
    {
     "data": {
      "text/plain": [
       "'Docstrings are special strings that document the purpose and functionality of Python functions, modules, classes, and methods. They are written as the first statement in the definition of these objects, enclosed by triple quotes (either single or double). For example:\\n\\ndef add(a, b): “”“Returns the sum of two numbers a and b.”“” return a + b\\n\\nThe docstring of an object can be accessed by its doc attribute or by using the help function. For example:\\n\\nprint(add.doc) help(add)\\n\\nDocstrings are useful for providing information about what the object does, what parameters it takes, what it returns, what exceptions it raises, and any other details that may help the user or the developer understand the code better. Docstrings also enable the use of automated tools that can generate documentation from the source code, such as Sphinx or Pydoc.\\n\\nThere are different styles and conventions for writing docstrings, such as Google style, Numpydoc style, or PEP 257. However, some common elements that most docstrings should include are:\\n\\nA brief summary of what the object does, ending with a period.\\nA blank line after the summary, separating it from the rest of the docstring.\\nA more detailed description of the object’s functionality, parameters, return value, exceptions, etc., if necessary.\\nAn optional section for examples, references, or notes, if applicable.'"
      ]
     },
     "execution_count": 28,
     "metadata": {},
     "output_type": "execute_result"
    }
   ],
   "source": [
    "#1.\n",
    "\"\"\"Docstrings are special strings that document the purpose and functionality of Python functions, modules, classes, and methods. They are written as the first statement in the definition of these objects, enclosed by triple quotes (either single or double). For example:\n",
    "\n",
    "def add(a, b): “”“Returns the sum of two numbers a and b.”“” return a + b\n",
    "\n",
    "The docstring of an object can be accessed by its doc attribute or by using the help function. For example:\n",
    "\n",
    "print(add.doc) help(add)\n",
    "\n",
    "Docstrings are useful for providing information about what the object does, what parameters it takes, what it returns, what exceptions it raises, and any other details that may help the user or the developer understand the code better. Docstrings also enable the use of automated tools that can generate documentation from the source code, such as Sphinx or Pydoc.\n",
    "\n",
    "There are different styles and conventions for writing docstrings, such as Google style, Numpydoc style, or PEP 257. However, some common elements that most docstrings should include are:\n",
    "\n",
    "A brief summary of what the object does, ending with a period.\n",
    "A blank line after the summary, separating it from the rest of the docstring.\n",
    "A more detailed description of the object’s functionality, parameters, return value, exceptions, etc., if necessary.\n",
    "An optional section for examples, references, or notes, if applicable.\"\"\""
   ]
  },
  {
   "cell_type": "code",
   "execution_count": 29,
   "id": "9f0ce5d6-d2a0-481c-bdde-a615bc125741",
   "metadata": {},
   "outputs": [
    {
     "data": {
      "text/plain": [
       "'Some best practices for naming functions and variables in Python are:\\n\\nUse snake case for function and variable names. This means using lowercase letters and underscores to separate words. For example: my_function, user_input, total_score.\\nUse descriptive and meaningful names that convey the purpose and functionality of the function or variable. Avoid using vague or generic names like x, data, result. For example: calculate_average, get_user_name, is_prime.\\nUse singular names for variables that hold a single value and plural names for variables that hold a collection of values. For example: name, names, number, numbers.\\nUse abbreviations sparingly and only when they are well-known and unambiguous. For example: id, url, csv. Avoid using acronyms that are not widely recognized or may have multiple meanings. For example: api, nlp, gcd.\\nUse constants for variables that have a fixed value that does not change throughout the program. Constants should be named using upper case letters and underscores. For example: PI, MAX_LENGTH, COLOR_RED.\\nAvoid using reserved words or built-in names as function or variable names. These are words that have a special meaning or functionality in Python and may cause errors or confusion if used as identifiers. For example: for, while, if, else, print, list, str.'"
      ]
     },
     "execution_count": 29,
     "metadata": {},
     "output_type": "execute_result"
    }
   ],
   "source": [
    "#2.Describe some best practices for naming functions and variables in Python, including naming conventions and guidelines.\n",
    "\n",
    "\n",
    "\"\"\"Some best practices for naming functions and variables in Python are:\n",
    "\n",
    "Use snake case for function and variable names. This means using lowercase letters and underscores to separate words. For example: my_function, user_input, total_score.\n",
    "Use descriptive and meaningful names that convey the purpose and functionality of the function or variable. Avoid using vague or generic names like x, data, result. For example: calculate_average, get_user_name, is_prime.\n",
    "Use singular names for variables that hold a single value and plural names for variables that hold a collection of values. For example: name, names, number, numbers.\n",
    "Use abbreviations sparingly and only when they are well-known and unambiguous. For example: id, url, csv. Avoid using acronyms that are not widely recognized or may have multiple meanings. For example: api, nlp, gcd.\n",
    "Use constants for variables that have a fixed value that does not change throughout the program. Constants should be named using upper case letters and underscores. For example: PI, MAX_LENGTH, COLOR_RED.\n",
    "Avoid using reserved words or built-in names as function or variable names. These are words that have a special meaning or functionality in Python and may cause errors or confusion if used as identifiers. For example: for, while, if, else, print, list, str.\"\"\""
   ]
  },
  {
   "cell_type": "code",
   "execution_count": 30,
   "id": "94314a74-39c1-434a-b6f9-181937406687",
   "metadata": {},
   "outputs": [],
   "source": [
    "### COMPLETE ###"
   ]
  },
  {
   "cell_type": "code",
   "execution_count": null,
   "id": "6d08c2f4-9e90-427a-add3-91b56d9b59ef",
   "metadata": {},
   "outputs": [],
   "source": []
  }
 ],
 "metadata": {
  "kernelspec": {
   "display_name": "Python 3 (ipykernel)",
   "language": "python",
   "name": "python3"
  },
  "language_info": {
   "codemirror_mode": {
    "name": "ipython",
    "version": 3
   },
   "file_extension": ".py",
   "mimetype": "text/x-python",
   "name": "python",
   "nbconvert_exporter": "python",
   "pygments_lexer": "ipython3",
   "version": "3.10.8"
  }
 },
 "nbformat": 4,
 "nbformat_minor": 5
}
